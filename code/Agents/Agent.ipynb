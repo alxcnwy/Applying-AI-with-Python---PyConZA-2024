{
 "cells": [
  {
   "cell_type": "markdown",
   "id": "1137fd06-f2ee-454c-936d-393b1494d68c",
   "metadata": {},
   "source": [
    "# Imports"
   ]
  },
  {
   "cell_type": "code",
   "execution_count": 1,
   "id": "87c28eda-4610-4ee6-9f7e-33c1e2f55f81",
   "metadata": {},
   "outputs": [],
   "source": [
    "import sqlite3\n",
    "import pandas as pd"
   ]
  },
  {
   "cell_type": "code",
   "execution_count": 2,
   "id": "76141f7c-bdd1-4084-b2d6-6af9c38eb3a7",
   "metadata": {},
   "outputs": [],
   "source": [
    "from langchain.chains import RetrievalQA\n",
    "from langchain.vectorstores import FAISS\n",
    "from langchain.embeddings.openai import OpenAIEmbeddings\n",
    "from langchain_openai import ChatOpenAI"
   ]
  },
  {
   "cell_type": "code",
   "execution_count": 3,
   "id": "5ed25501-4aa2-4dc6-b1e1-ad395f906c94",
   "metadata": {},
   "outputs": [],
   "source": [
    "import re\n",
    "import sqlparse"
   ]
  },
  {
   "cell_type": "code",
   "execution_count": 4,
   "id": "9b878319-0cdc-4529-9de9-aed565b646a7",
   "metadata": {},
   "outputs": [],
   "source": [
    "from IPython.display import Markdown, display\n",
    "\n",
    "def print_markdown(text):\n",
    "    display(Markdown(text))"
   ]
  },
  {
   "cell_type": "code",
   "execution_count": 59,
   "id": "06730fa7-dbfa-40e6-9bc8-705a2aadf33d",
   "metadata": {},
   "outputs": [],
   "source": [
    "from IPython.display import clear_output\n",
    "\n",
    "def clear_notebook_output():\n",
    "    clear_output(wait=True)"
   ]
  },
  {
   "cell_type": "code",
   "execution_count": 5,
   "id": "669475fd-c152-4840-ae75-d25470f1ceea",
   "metadata": {},
   "outputs": [],
   "source": [
    "import warnings\n",
    "\n",
    "# Suppress all warnings\n",
    "warnings.filterwarnings('ignore')\n"
   ]
  },
  {
   "cell_type": "markdown",
   "id": "f157d84c-c7dd-4981-a5ac-145f8fabd550",
   "metadata": {},
   "source": [
    "# Load Vector Store"
   ]
  },
  {
   "cell_type": "code",
   "execution_count": 6,
   "id": "3b8ae933-3727-4959-a821-ac3cf600197d",
   "metadata": {},
   "outputs": [],
   "source": [
    "# Load FAISS index\n",
    "vectorstore = FAISS.load_local(\n",
    "    \"faiss_index\", \n",
    "    OpenAIEmbeddings(model=\"text-embedding-ada-002\"), \n",
    "    allow_dangerous_deserialization=True\n",
    ")\n",
    "\n",
    "# Initialize the language model (chat model)\n",
    "llm = ChatOpenAI(model=\"gpt-4o\",\n",
    "                max_tokens=None,\n",
    "                timeout=None,\n",
    "                max_retries=5)"
   ]
  },
  {
   "cell_type": "markdown",
   "id": "59dc6510-e3b6-4367-a9f3-d255bc7fd106",
   "metadata": {},
   "source": [
    "# Setup RAG "
   ]
  },
  {
   "cell_type": "code",
   "execution_count": 7,
   "id": "d061def1-20bd-4f9a-a020-d93fea5198e0",
   "metadata": {},
   "outputs": [],
   "source": [
    "# Set up Retrieval Augmented Generation (RAG)\n",
    "qa_chain = RetrievalQA.from_chain_type(llm, retriever=vectorstore.as_retriever())"
   ]
  },
  {
   "cell_type": "code",
   "execution_count": 8,
   "id": "84d61fc5-5615-4989-a680-2c7a659d1fc8",
   "metadata": {},
   "outputs": [],
   "source": [
    "def run_chat_query(query):\n",
    "    return qa_chain.run(query)"
   ]
  },
  {
   "cell_type": "code",
   "execution_count": 9,
   "id": "b9ca3c39-9029-4e32-8754-a8ca240250be",
   "metadata": {},
   "outputs": [
    {
     "data": {
      "text/plain": [
       "'Python programming, technology, and innovation in diverse fields.'"
      ]
     },
     "execution_count": 9,
     "metadata": {},
     "output_type": "execute_result"
    }
   ],
   "source": [
    "run_chat_query(\"What is the main topic of the conference [<10 words]\")"
   ]
  },
  {
   "cell_type": "markdown",
   "id": "b6ee01a5-4c52-4ec0-872d-b3b07591a618",
   "metadata": {},
   "source": [
    "# Setup SQL Database"
   ]
  },
  {
   "cell_type": "code",
   "execution_count": 10,
   "id": "123792b0-ecc6-4db5-a857-827794f5be2a",
   "metadata": {},
   "outputs": [],
   "source": [
    "def run_sql_query(query, debug=False):\n",
    "    \"\"\"\n",
    "    Run the sanitized SQL query using SQLite and return the result.\n",
    "    Creates a fresh connection for each execution.\n",
    "    \"\"\"\n",
    "    try:\n",
    "        # Create a new connection each time\n",
    "        conn = sqlite3.connect('data/conference_data.db')\n",
    "        \n",
    "        # Execute the query and fetch the result\n",
    "        result = pd.read_sql_query(query, conn)\n",
    "\n",
    "        if debug:\n",
    "            print(\"Running SQL Query:\")\n",
    "            print(query)\n",
    "            print(result)  \n",
    "        return result\n",
    "    except Exception as e:\n",
    "        print(f\"Error occurred: {e}\")\n",
    "        print(\"### QUERY ###\")\n",
    "        print(query)\n",
    "        print(\"#############\")\n",
    "    finally:\n",
    "        conn.close()  # Always close the connection after execution\n",
    "    return None"
   ]
  },
  {
   "cell_type": "code",
   "execution_count": 11,
   "id": "d86a1d35-09cb-46fd-8a38-ca0f528e3293",
   "metadata": {
    "scrolled": true
   },
   "outputs": [
    {
     "data": {
      "text/html": [
       "<div>\n",
       "<style scoped>\n",
       "    .dataframe tbody tr th:only-of-type {\n",
       "        vertical-align: middle;\n",
       "    }\n",
       "\n",
       "    .dataframe tbody tr th {\n",
       "        vertical-align: top;\n",
       "    }\n",
       "\n",
       "    .dataframe thead th {\n",
       "        text-align: right;\n",
       "    }\n",
       "</style>\n",
       "<table border=\"1\" class=\"dataframe\">\n",
       "  <thead>\n",
       "    <tr style=\"text-align: right;\">\n",
       "      <th></th>\n",
       "      <th>table_name</th>\n",
       "      <th>column_name</th>\n",
       "      <th>data_type</th>\n",
       "    </tr>\n",
       "  </thead>\n",
       "  <tbody>\n",
       "    <tr>\n",
       "      <th>0</th>\n",
       "      <td>github</td>\n",
       "      <td>speaker_id</td>\n",
       "      <td>INTEGER</td>\n",
       "    </tr>\n",
       "    <tr>\n",
       "      <th>1</th>\n",
       "      <td>github</td>\n",
       "      <td>github_url</td>\n",
       "      <td>TEXT</td>\n",
       "    </tr>\n",
       "    <tr>\n",
       "      <th>2</th>\n",
       "      <td>github</td>\n",
       "      <td>username</td>\n",
       "      <td>TEXT</td>\n",
       "    </tr>\n",
       "    <tr>\n",
       "      <th>3</th>\n",
       "      <td>github</td>\n",
       "      <td>name</td>\n",
       "      <td>TEXT</td>\n",
       "    </tr>\n",
       "    <tr>\n",
       "      <th>4</th>\n",
       "      <td>github</td>\n",
       "      <td>public_repos</td>\n",
       "      <td>INTEGER</td>\n",
       "    </tr>\n",
       "    <tr>\n",
       "      <th>5</th>\n",
       "      <td>github</td>\n",
       "      <td>total_stars</td>\n",
       "      <td>INTEGER</td>\n",
       "    </tr>\n",
       "    <tr>\n",
       "      <th>6</th>\n",
       "      <td>github</td>\n",
       "      <td>most_starred_repo_name</td>\n",
       "      <td>TEXT</td>\n",
       "    </tr>\n",
       "    <tr>\n",
       "      <th>7</th>\n",
       "      <td>github</td>\n",
       "      <td>most_starred_repo_stars</td>\n",
       "      <td>INTEGER</td>\n",
       "    </tr>\n",
       "    <tr>\n",
       "      <th>8</th>\n",
       "      <td>github</td>\n",
       "      <td>last_commit_datetime</td>\n",
       "      <td>TEXT</td>\n",
       "    </tr>\n",
       "    <tr>\n",
       "      <th>9</th>\n",
       "      <td>github</td>\n",
       "      <td>hours_since_last_commit</td>\n",
       "      <td>REAL</td>\n",
       "    </tr>\n",
       "    <tr>\n",
       "      <th>10</th>\n",
       "      <td>github</td>\n",
       "      <td>followers</td>\n",
       "      <td>INTEGER</td>\n",
       "    </tr>\n",
       "    <tr>\n",
       "      <th>11</th>\n",
       "      <td>github</td>\n",
       "      <td>following</td>\n",
       "      <td>INTEGER</td>\n",
       "    </tr>\n",
       "    <tr>\n",
       "      <th>12</th>\n",
       "      <td>github</td>\n",
       "      <td>created_at</td>\n",
       "      <td>TEXT</td>\n",
       "    </tr>\n",
       "    <tr>\n",
       "      <th>13</th>\n",
       "      <td>github</td>\n",
       "      <td>company</td>\n",
       "      <td>TEXT</td>\n",
       "    </tr>\n",
       "    <tr>\n",
       "      <th>14</th>\n",
       "      <td>github</td>\n",
       "      <td>bio</td>\n",
       "      <td>TEXT</td>\n",
       "    </tr>\n",
       "    <tr>\n",
       "      <th>15</th>\n",
       "      <td>github</td>\n",
       "      <td>location</td>\n",
       "      <td>TEXT</td>\n",
       "    </tr>\n",
       "    <tr>\n",
       "      <th>16</th>\n",
       "      <td>github</td>\n",
       "      <td>blog</td>\n",
       "      <td>TEXT</td>\n",
       "    </tr>\n",
       "    <tr>\n",
       "      <th>17</th>\n",
       "      <td>github</td>\n",
       "      <td>email</td>\n",
       "      <td>TEXT</td>\n",
       "    </tr>\n",
       "    <tr>\n",
       "      <th>18</th>\n",
       "      <td>speakers</td>\n",
       "      <td>speaker_id</td>\n",
       "      <td>INTEGER</td>\n",
       "    </tr>\n",
       "    <tr>\n",
       "      <th>19</th>\n",
       "      <td>speakers</td>\n",
       "      <td>name</td>\n",
       "      <td>TEXT</td>\n",
       "    </tr>\n",
       "    <tr>\n",
       "      <th>20</th>\n",
       "      <td>speakers</td>\n",
       "      <td>profile_url</td>\n",
       "      <td>TEXT</td>\n",
       "    </tr>\n",
       "    <tr>\n",
       "      <th>21</th>\n",
       "      <td>speakers</td>\n",
       "      <td>photo_url</td>\n",
       "      <td>TEXT</td>\n",
       "    </tr>\n",
       "    <tr>\n",
       "      <th>22</th>\n",
       "      <td>speakers</td>\n",
       "      <td>twitter</td>\n",
       "      <td>TEXT</td>\n",
       "    </tr>\n",
       "    <tr>\n",
       "      <th>23</th>\n",
       "      <td>speakers</td>\n",
       "      <td>github</td>\n",
       "      <td>TEXT</td>\n",
       "    </tr>\n",
       "    <tr>\n",
       "      <th>24</th>\n",
       "      <td>speakers</td>\n",
       "      <td>fediverse</td>\n",
       "      <td>TEXT</td>\n",
       "    </tr>\n",
       "    <tr>\n",
       "      <th>25</th>\n",
       "      <td>speakers</td>\n",
       "      <td>bio_part_1</td>\n",
       "      <td>TEXT</td>\n",
       "    </tr>\n",
       "    <tr>\n",
       "      <th>26</th>\n",
       "      <td>speakers</td>\n",
       "      <td>bio_part_2</td>\n",
       "      <td>TEXT</td>\n",
       "    </tr>\n",
       "    <tr>\n",
       "      <th>27</th>\n",
       "      <td>speakers</td>\n",
       "      <td>bio_part_3</td>\n",
       "      <td>TEXT</td>\n",
       "    </tr>\n",
       "    <tr>\n",
       "      <th>28</th>\n",
       "      <td>talks</td>\n",
       "      <td>talk_id</td>\n",
       "      <td>INTEGER</td>\n",
       "    </tr>\n",
       "    <tr>\n",
       "      <th>29</th>\n",
       "      <td>talks</td>\n",
       "      <td>title</td>\n",
       "      <td>TEXT</td>\n",
       "    </tr>\n",
       "    <tr>\n",
       "      <th>30</th>\n",
       "      <td>talks</td>\n",
       "      <td>abstract</td>\n",
       "      <td>TEXT</td>\n",
       "    </tr>\n",
       "    <tr>\n",
       "      <th>31</th>\n",
       "      <td>talks</td>\n",
       "      <td>speaker_name</td>\n",
       "      <td>TEXT</td>\n",
       "    </tr>\n",
       "    <tr>\n",
       "      <th>32</th>\n",
       "      <td>talks</td>\n",
       "      <td>speaker_profile_url</td>\n",
       "      <td>TEXT</td>\n",
       "    </tr>\n",
       "    <tr>\n",
       "      <th>33</th>\n",
       "      <td>talks</td>\n",
       "      <td>talk_url</td>\n",
       "      <td>TEXT</td>\n",
       "    </tr>\n",
       "    <tr>\n",
       "      <th>34</th>\n",
       "      <td>talks</td>\n",
       "      <td>speaker_id</td>\n",
       "      <td>INTEGER</td>\n",
       "    </tr>\n",
       "    <tr>\n",
       "      <th>35</th>\n",
       "      <td>topics</td>\n",
       "      <td>talk_id</td>\n",
       "      <td>INTEGER</td>\n",
       "    </tr>\n",
       "    <tr>\n",
       "      <th>36</th>\n",
       "      <td>topics</td>\n",
       "      <td>assigned_topic</td>\n",
       "      <td>TEXT</td>\n",
       "    </tr>\n",
       "  </tbody>\n",
       "</table>\n",
       "</div>"
      ],
      "text/plain": [
       "   table_name              column_name data_type\n",
       "0      github               speaker_id   INTEGER\n",
       "1      github               github_url      TEXT\n",
       "2      github                 username      TEXT\n",
       "3      github                     name      TEXT\n",
       "4      github             public_repos   INTEGER\n",
       "5      github              total_stars   INTEGER\n",
       "6      github   most_starred_repo_name      TEXT\n",
       "7      github  most_starred_repo_stars   INTEGER\n",
       "8      github     last_commit_datetime      TEXT\n",
       "9      github  hours_since_last_commit      REAL\n",
       "10     github                followers   INTEGER\n",
       "11     github                following   INTEGER\n",
       "12     github               created_at      TEXT\n",
       "13     github                  company      TEXT\n",
       "14     github                      bio      TEXT\n",
       "15     github                 location      TEXT\n",
       "16     github                     blog      TEXT\n",
       "17     github                    email      TEXT\n",
       "18   speakers               speaker_id   INTEGER\n",
       "19   speakers                     name      TEXT\n",
       "20   speakers              profile_url      TEXT\n",
       "21   speakers                photo_url      TEXT\n",
       "22   speakers                  twitter      TEXT\n",
       "23   speakers                   github      TEXT\n",
       "24   speakers                fediverse      TEXT\n",
       "25   speakers               bio_part_1      TEXT\n",
       "26   speakers               bio_part_2      TEXT\n",
       "27   speakers               bio_part_3      TEXT\n",
       "28      talks                  talk_id   INTEGER\n",
       "29      talks                    title      TEXT\n",
       "30      talks                 abstract      TEXT\n",
       "31      talks             speaker_name      TEXT\n",
       "32      talks      speaker_profile_url      TEXT\n",
       "33      talks                 talk_url      TEXT\n",
       "34      talks               speaker_id   INTEGER\n",
       "35     topics                  talk_id   INTEGER\n",
       "36     topics           assigned_topic      TEXT"
      ]
     },
     "execution_count": 11,
     "metadata": {},
     "output_type": "execute_result"
    }
   ],
   "source": [
    "query = '''\n",
    "SELECT \n",
    "    m.name AS table_name, \n",
    "    p.name AS column_name, \n",
    "    p.type AS data_type\n",
    "FROM \n",
    "    sqlite_master m \n",
    "JOIN \n",
    "    pragma_table_info(m.name) p \n",
    "WHERE \n",
    "    m.type = 'table'\n",
    "ORDER BY \n",
    "    table_name, p.cid;\n",
    "\n",
    "\n",
    "'''\n",
    "run_sql_query(query)"
   ]
  },
  {
   "cell_type": "code",
   "execution_count": 12,
   "id": "a93507b9-af68-43ff-9fb1-12603b4930bd",
   "metadata": {},
   "outputs": [
    {
     "data": {
      "text/html": [
       "<div>\n",
       "<style scoped>\n",
       "    .dataframe tbody tr th:only-of-type {\n",
       "        vertical-align: middle;\n",
       "    }\n",
       "\n",
       "    .dataframe tbody tr th {\n",
       "        vertical-align: top;\n",
       "    }\n",
       "\n",
       "    .dataframe thead th {\n",
       "        text-align: right;\n",
       "    }\n",
       "</style>\n",
       "<table border=\"1\" class=\"dataframe\">\n",
       "  <thead>\n",
       "    <tr style=\"text-align: right;\">\n",
       "      <th></th>\n",
       "      <th>COUNT(*)</th>\n",
       "    </tr>\n",
       "  </thead>\n",
       "  <tbody>\n",
       "    <tr>\n",
       "      <th>0</th>\n",
       "      <td>36</td>\n",
       "    </tr>\n",
       "  </tbody>\n",
       "</table>\n",
       "</div>"
      ],
      "text/plain": [
       "   COUNT(*)\n",
       "0        36"
      ]
     },
     "execution_count": 12,
     "metadata": {},
     "output_type": "execute_result"
    }
   ],
   "source": [
    "query = '''\n",
    "SELECT COUNT(*)\n",
    "FROM talks t;\n",
    "'''\n",
    "run_sql_query(query)"
   ]
  },
  {
   "cell_type": "markdown",
   "id": "7a7c659a-d120-41dc-a285-83c5a88c3145",
   "metadata": {},
   "source": [
    "# Agent Prompts"
   ]
  },
  {
   "cell_type": "code",
   "execution_count": 13,
   "id": "a8a91338-f2c1-442a-8688-974b6b97f769",
   "metadata": {},
   "outputs": [],
   "source": [
    "question = \"How many talks are there about artificial intelligence?\""
   ]
  },
  {
   "cell_type": "code",
   "execution_count": 14,
   "id": "fbe92387-9805-4ed6-93e7-57191d7fd0ec",
   "metadata": {},
   "outputs": [],
   "source": [
    "def get_prompt_decide_LLM_or_SQL(question):\n",
    "    return f'''\n",
    "    You are an expert analyst who can decide whether it is better to rely on a database of documents and general reasoning or whether we should use a sql query to answer a question\n",
    "        \n",
    "    Your job is to decide whether the input QUESTION would be better answered with SQL or LLM.\n",
    "    \n",
    "    A question answered better with SQL will tend to be analytical or questions about numbers.\n",
    "    \n",
    "    A question better answered with an LLM that has documents in its context via RAG would be something like \"what is alex conway's talk about\"\n",
    "    \n",
    "    The QUESTION is:\n",
    "    {question}\n",
    "    \n",
    "    When you believe it is better to answer with the LLM and the document store, reply \"LLM\" and nothing else.\n",
    "    \n",
    "    When you believe it is better to write a SQL query and check the database to answer the question then reply \"SQL\" and nothing else.\n",
    "        \n",
    "        IMPORTANT instructions:\n",
    "        1) Only reply with a single word - either SQL or LLM\n",
    "    \n",
    "    \n",
    "    Here is the table structure of the sql data:\n",
    "    github table:\n",
    "    speaker_id,github_url,username,name,public_repos,total_stars,most_starred_repo_name,most_starred_repo_stars,last_commit_datetime,hours_since_last_commit,followers,following,created_at,company,bio,location,blog,email\n",
    "    8,https://github.com/sixfeetup,sixfeetup,Six Feet Up,127,210,scaf,79,2024-09-25T17:04:43+00:00,164.0354158066667,19,0,2011-09-08T20:39:11+00:00,,\"Accelerating IMPACT with App Dev, AI & Big Data\",\"Fishers, IN\",http://www.sixfeetup.com,info@sixfeetup.com\n",
    "    20,https://github.com/gijzelaerr,gijzelaerr,Gijs Molenaar,172,748,python-snap7,648,2024-09-17T16:20:59+00:00,356.8318311875,188,111,2010-07-08T11:22:39+00:00,spotify,\"astro software composer, music brewer, beer programmer, senior system engineer @spotify\",Amsterdam - Windhoek,http://pythonic.nl,gijsmolenaar@gmail.com\n",
    "    21,https://github.com/luisdza,luisdza,Luis de Sousa,8,3,aerialmzansi-website,2,2024-08-22T13:24:29+00:00,983.7772850216667,23,112,2014-04-12T05:41:28+00:00,@Syeop,Creating and dreaming,\"Johannesburg, South Africa\",,\n",
    "    ...\n",
    "    \n",
    "    speakers table:\n",
    "    Speaker ID,Name,Profile URL,Photo URL,Twitter,GitHub,Fediverse,Bio Part 1,Bio Part 2,Bio Part 3\n",
    "    1,Alex Conway,https://2024.za.pycon.org/users/alxcnwy/,No photo available,https://twitter.com/alxcnwy,https://github.com/alxcnwy,,Twitter Profile link:https://twitter.com/alxcnwy,Other Social:https://www.linkedin.com/in/alxcnwy/,github profile:https://github.com/alxcnwy\n",
    "    2,Nunudzai Mrewa,https://2024.za.pycon.org/users/JustNunuz/,No photo available,,https://github.com/JustNunuz,,Twitter Profile link:https://x.com/_absolute_z3r0,Other Social:https://www.linkedin.com/in/nunuz/,github profile:https://github.com/JustNunuz\n",
    "    3,Brenden Taylor,https://2024.za.pycon.org/users/brenden.taylor22/,No photo available,,,,\"I am a data scientist at Praelexis, in Stellenbosch. I have mostly worked in financial services, specifically in time series forecasting in Python.\",,\n",
    "    ...\n",
    "    \n",
    "    talks table:\n",
    "    Talk ID,Title,Abstract,Speaker Name,Speaker Profile URL,Talk URL,Speaker ID\n",
    "    1,Applying AI with Python,\"Artificial Intelligence (AI) is transforming industries and our lives by enabling computers to solve increasingly complex tasks, and Python stands at the forefront of this revolution. In this talk, we will explore how Python's rich ecosystem of AI libraries and frameworks can be harnessed to quickly solve real-world problems without needing a PhD. From computer vision to time series analysis to natural language processing and AI agents, this session will demonstrate practical AI applications in real-world use cases that leverage Python's versatility so you can get started using AI right away.\n",
    "    ...\n",
    "    \n",
    "    topics table:\n",
    "    Talk ID,Assigned Topic\n",
    "    1,AI and Machine Learning\n",
    "    2,Community and Tech Education\n",
    "    3,Time Series Analysis\n",
    "    4,AI and Machine Learning\n",
    "    5,Natural Language Processing (NLP)\n",
    "    6,Community and Tech Education\n",
    "    7,Community and Tech Education\n",
    "    8,Community and Tech Education\n",
    "    ...\n",
    "    \n",
    "    \n",
    "    '''"
   ]
  },
  {
   "cell_type": "code",
   "execution_count": 15,
   "id": "ff0deb4c-5bdf-45cc-816f-ded2ba5b830f",
   "metadata": {},
   "outputs": [
    {
     "data": {
      "text/plain": [
       "'SQL'"
      ]
     },
     "execution_count": 15,
     "metadata": {},
     "output_type": "execute_result"
    }
   ],
   "source": [
    "prompt_decide_LLM_or_SQL = get_prompt_decide_LLM_or_SQL(question)\n",
    "run_chat_query(prompt_decide_LLM_or_SQL)"
   ]
  },
  {
   "cell_type": "markdown",
   "id": "6da44b16-42d8-4517-9a22-dc6b73f8c1d2",
   "metadata": {},
   "source": [
    "## SQL type of Query:"
   ]
  },
  {
   "cell_type": "code",
   "execution_count": 16,
   "id": "9cc91bd9-d83a-48dc-86a5-a051664e2bc0",
   "metadata": {},
   "outputs": [],
   "source": [
    "def get_prompt_write_SQL_query_for_question(question):\n",
    "    return f'''\n",
    "    You are a Senior SQL Programmer who can understand the complex table structures and form SQL queries as per the user's question.\n",
    "        \n",
    "    Your job is to write a SQL query that answers the question and return the SQL code for the query and nothing else.\n",
    "    \n",
    "    The QUESTION is:\n",
    "    {question}\n",
    "    \n",
    "    Here is the table structure of the sql data:\n",
    "    \n",
    "       table_name              column_name data_type\n",
    "    0      github               speaker_id   INTEGER\n",
    "    1      github               github_url      TEXT\n",
    "    2      github                 username      TEXT\n",
    "    3      github                     name      TEXT\n",
    "    4      github             public_repos   INTEGER\n",
    "    5      github              total_stars   INTEGER\n",
    "    6      github   most_starred_repo_name      TEXT\n",
    "    7      github  most_starred_repo_stars   INTEGER\n",
    "    8      github     last_commit_datetime      TEXT\n",
    "    9      github  hours_since_last_commit      REAL\n",
    "    10     github                followers   INTEGER\n",
    "    11     github                following   INTEGER\n",
    "    12     github               created_at      TEXT\n",
    "    13     github                  company      TEXT\n",
    "    14     github                      bio      TEXT\n",
    "    15     github                 location      TEXT\n",
    "    16     github                     blog      TEXT\n",
    "    17     github                    email      TEXT\n",
    "    18   speakers               speaker_id   INTEGER\n",
    "    19   speakers                     name      TEXT\n",
    "    20   speakers              profile_url      TEXT\n",
    "    21   speakers                photo_url      TEXT\n",
    "    22   speakers                  twitter      TEXT\n",
    "    23   speakers                   github      TEXT\n",
    "    24   speakers                fediverse      TEXT\n",
    "    25   speakers               bio_part_1      TEXT\n",
    "    26   speakers               bio_part_2      TEXT\n",
    "    27   speakers               bio_part_3      TEXT\n",
    "    28      talks                  talk_id   INTEGER\n",
    "    29      talks                    title      TEXT\n",
    "    30      talks                 abstract      TEXT\n",
    "    31      talks             speaker_name      TEXT\n",
    "    32      talks      speaker_profile_url      TEXT\n",
    "    33      talks                 talk_url      TEXT\n",
    "    34      talks               speaker_id   INTEGER\n",
    "    35     topics                  talk_id   INTEGER\n",
    "    36     topics           assigned_topic      TEXT\n",
    "    \n",
    "    \n",
    "    \n",
    "    Here is some smaple rows from the database:\n",
    "    \n",
    "    github table:\n",
    "    speaker_id,github_url,username,name,public_repos,total_stars,most_starred_repo_name,most_starred_repo_stars,last_commit_datetime,hours_since_last_commit,followers,following,created_at,company,bio,location,blog,email\n",
    "    8,https://github.com/sixfeetup,sixfeetup,Six Feet Up,127,210,scaf,79,2024-09-25T17:04:43+00:00,164.0354158066667,19,0,2011-09-08T20:39:11+00:00,,\"Accelerating IMPACT with App Dev, AI & Big Data\",\"Fishers, IN\",http://www.sixfeetup.com,info@sixfeetup.com\n",
    "    20,https://github.com/gijzelaerr,gijzelaerr,Gijs Molenaar,172,748,python-snap7,648,2024-09-17T16:20:59+00:00,356.8318311875,188,111,2010-07-08T11:22:39+00:00,spotify,\"astro software composer, music brewer, beer programmer, senior system engineer @spotify\",Amsterdam - Windhoek,http://pythonic.nl,gijsmolenaar@gmail.com\n",
    "    21,https://github.com/luisdza,luisdza,Luis de Sousa,8,3,aerialmzansi-website,2,2024-08-22T13:24:29+00:00,983.7772850216667,23,112,2014-04-12T05:41:28+00:00,@Syeop,Creating and dreaming,\"Johannesburg, South Africa\",,\n",
    "    ...\n",
    "    \n",
    "    speakers table:\n",
    "    Speaker ID,Name,Profile URL,Photo URL,Twitter,GitHub,Fediverse,Bio Part 1,Bio Part 2,Bio Part 3\n",
    "    1,Alex Conway,https://2024.za.pycon.org/users/alxcnwy/,No photo available,https://twitter.com/alxcnwy,https://github.com/alxcnwy,,Twitter Profile link:https://twitter.com/alxcnwy,Other Social:https://www.linkedin.com/in/alxcnwy/,github profile:https://github.com/alxcnwy\n",
    "    2,Nunudzai Mrewa,https://2024.za.pycon.org/users/JustNunuz/,No photo available,,https://github.com/JustNunuz,,Twitter Profile link:https://x.com/_absolute_z3r0,Other Social:https://www.linkedin.com/in/nunuz/,github profile:https://github.com/JustNunuz\n",
    "    3,Brenden Taylor,https://2024.za.pycon.org/users/brenden.taylor22/,No photo available,,,,\"I am a data scientist at Praelexis, in Stellenbosch. I have mostly worked in financial services, specifically in time series forecasting in Python.\",,\n",
    "    ...\n",
    "    \n",
    "    talks table:\n",
    "    Talk ID,Title,Abstract,Speaker Name,Speaker Profile URL,Talk URL,Speaker ID\n",
    "    1,Applying AI with Python,\"Artificial Intelligence (AI) is transforming industries and our lives by enabling computers to solve increasingly complex tasks, and Python stands at the forefront of this revolution. In this talk, we will explore how Python's rich ecosystem of AI libraries and frameworks can be harnessed to quickly solve real-world problems without needing a PhD. From computer vision to time series analysis to natural language processing and AI agents, this session will demonstrate practical AI applications in real-world use cases that leverage Python's versatility so you can get started using AI right away.\n",
    "    ...\n",
    "    \n",
    "    topics table:\n",
    "    Talk ID,Assigned Topic\n",
    "    1,AI and Machine Learning\n",
    "    2,Community and Tech Education\n",
    "    3,Time Series Analysis\n",
    "    4,AI and Machine Learning\n",
    "    5,Natural Language Processing (NLP)\n",
    "    6,Community and Tech Education\n",
    "    7,Community and Tech Education\n",
    "    8,Community and Tech Education\n",
    "    ...\n",
    "\n",
    "    When doing joins or where searches, make sure that you filter / join on an object that exists.\n",
    "    For example the query 'SELECT COUNT(*)  FROM topics  WHERE \"Assigned Topic\" LIKE \\'%AI%\\'' is bad becauase AI isn't a topic, \"Artificial Intelligence\" is.\n",
    "\n",
    "    Here is select talk_id, assigned_topic from topics:\n",
    "1\tAI and Machine Learning\n",
    "2\tCommunity and Tech Education\n",
    "3\tTime Series Analysis\n",
    "4\tAI and Machine Learning\n",
    "5\tNatural Language Processing (NLP)\n",
    "6\tCommunity and Tech Education\n",
    "7\tCommunity and Tech Education\n",
    "8\tCommunity and Tech Education\n",
    "9\tPython Libraries and Tools\n",
    "10\tWeb Development and Frontend\n",
    "11\tData Science and Decision Engines\n",
    "12\tPython Libraries and Tools\n",
    "13\tPython Libraries and Tools\n",
    "14\tPython Libraries and Tools\n",
    "15\tData Quality\n",
    "16\tAI and Machine Learning\n",
    "17\tEvent Streaming and Kafka\n",
    "18\tCommunity and Tech Education\n",
    "19\tPython Libraries and Tools\n",
    "20\tRobotics\n",
    "21\tOpen Source and Software Development\n",
    "22\tPython Libraries and Tools\n",
    "23\tAI and Machine Learning\n",
    "24\tPython Libraries and Tools\n",
    "25\tIoT and MicroPython\n",
    "26\tCommunity and Tech Education\n",
    "27\tNatural Language Processing (NLP)\n",
    "28\tPython Libraries and Tools\n",
    "29\tOpen Source and Software Development\n",
    "30\tWeb Development and Frontend\n",
    "31\tWeb Development and Frontend\n",
    "32\tCommunity and Tech Education\n",
    "33\tCommunity and Tech Education\n",
    "34\tOpen Source and Software Development\n",
    "35\tOpen Source and Software Development\n",
    "36\tPython Libraries and Tools\n",
    "\n",
    "\n",
    "    Here are the speaker id and speaker name columns from the speakers table:\n",
    "1\tAlex Conway\n",
    "2\tNunudzai Mrewa\n",
    "3\tBrenden Taylor\n",
    "4\tRuan Pretorius\n",
    "5\tAlta Saunders\n",
    "6\tSchalk Venter\n",
    "7\tMthetho Sovara\n",
    "8\tRoché Compaan\n",
    "9\tShaun De Ponte\n",
    "10\tSholto Armstrong\n",
    "11\tDu Toit Spies\n",
    "12\tBinjamin Barsch\n",
    "13\tGordon Inggs\n",
    "14\tAriella Rink\n",
    "15\tJolanda Becker\n",
    "16\tJohan Beyers\n",
    "17\tSheena O'Connell\n",
    "18\tBruce Merry\n",
    "19\t:David Campey\n",
    "20\tGijs Molenaar\n",
    "21\tLuis de Sousa\n",
    "22\tRajdeep Singh\n",
    "23\tSourav Saha\n",
    "24\tJon Nordby\n",
    "25\tAdeline Makokha\n",
    "26\tDivya Rani\n",
    "27\tRupali Kavale\n",
    "28\tRobson Kanhalelo\n",
    "29\tCory Zue\n",
    "30\tSheena O'Connell\n",
    "31\tSheena O'Connell\n",
    "32\tNeil Muller\n",
    "33\tMarco Slaviero\n",
    "34\tMarco Slaviero\n",
    "35\tSARAO\n",
    "\n",
    "here is select talk_id, speaker_id, title from talks:\n",
    "1\t1\tApplying AI with Python\n",
    "2\t2\tHarnessing the Power of Community: Lessons from Speedrunning for the Python Ecosystem and Beyond\n",
    "3\t3\tIt’s About Time: Time-Series Forecasting with Darts\n",
    "4\t4\tMonitoring and Evaluating LLM Apps with Langfuse\n",
    "5\t5\tLeveraging the NLTK library for Translation: A Case Study of Dyula-French Translation\n",
    "6\t6\tCreating Personalised Images with Python's Stable Diffusion\n",
    "7\t6\tMental Illness and Vulnerability in Tech\n",
    "8\t7\tBridging Language Barriers: Making Programming Education Accessible to All\n",
    "9\t8\tLevel up your developer experience with Kubernetes\n",
    "10\t9\tA Novel Way of Creating Multi-Tenant Apps using Django... No Third Party Packages Apply!\n",
    "11\t10\tBuilding a Decisioning Engine for Data Scientists: A Practical Guide\n",
    "12\t11\tImplementing an HPy Backend for Cython\n",
    "13\t12\tStreamlining HPC Operations: Integrating Django Helpdesk in Resource-Constrained Environments\n",
    "14\t13\tYou don't need a data service, you just need an object store and some JSON files\n",
    "15\t14\tGreat Expectations About Data Quality\n",
    "16\t15\tMade you look: Using Siamese Neural Networks for Building Change Detection at the City of Cape Town\n",
    "17\t16\tKafka in practice: Lessons learned at Takealot\n",
    "18\t17\tPower to the people who teach the people to code\n",
    "19\t18\tAdventures in Garbage Collection\n",
    "20\t19\t& robotics for all!\n",
    "21\t20\tMaintaining a PLC communication library called python-snap7 without owning a PLC\n",
    "22\t21\tDuck, Duck, Python: OLAP Data with DuckDB\n",
    "23\t22\tDifferentiation Engines: The Elves behind the AI Christmas\n",
    "24\t23\tAccelerate your pandas workload using FireDucks at zero manual effort\n",
    "25\t24\tSensor data processing on microcontrollers with MicroPython\n",
    "26\t25\tBuilding a Thriving Tech Community\n",
    "27\t26\tBuilding a Code Search Engine: Using NLP to Find Similar Methods Across Libraries\n",
    "28\t27\tBeyond the Pause: Exploring the Inner Workings of Python’s `sleep()`\n",
    "29\t28\tExploring the Adoption & Role of Open Source Software in Schools\n",
    "30\t29\tUsing Coding Skills to Make Passive Income\n",
    "31\t30\tModern web frontend development with Python, HTMX and friends\n",
    "32\t31\tModern web frontend development with Python, HTMX and friends (part 2)\n",
    "33\t32\tPyCon Africa & PyConZA 2025 discussion\n",
    "34\t33\tCommunity & Contributions\n",
    "35\t34\tProfessional Software Isn’t\n",
    "36\t35\tSoftware Development at the South African Radio Astronomy Observatory\n",
    "\n",
    "here is select speaker_id, public_repos, total_stars, most_starred_repo_stars,  followers, created_at from github:\n",
    "8\t127\t210\t79\t19\t2011-09-08T20:39:11+00:00\n",
    "20\t172\t748\t648\t188\t2010-07-08T11:22:39+00:00\n",
    "21\t8\t3\t2\t23\t2014-04-12T05:41:28+00:00\n",
    "22\t56\t51\t12\t63\t2015-03-13T17:19:37+00:00\n",
    "32\t30\t5\t1\t7\t2011-02-28T09:19:10+00:00\n",
    "26\t190\t17\t4\t134\t2016-08-24T09:28:22+00:00\n",
    "25\t39\t0\t0\t13\t2021-06-08T13:20:20+00:00\n",
    "31\t76\t22\t6\t77\t2011-03-30T11:39:05+00:00\n",
    "17\t76\t22\t6\t77\t2011-03-30T11:39:05+00:00\n",
    "29\t67\t1016\t464\t343\t2009-03-24T15:34:08+00:00\n",
    "30\t76\t22\t6\t77\t2011-03-30T11:39:05+00:00\n",
    "24\t2\t546\t483\t23\t2018-07-18T12:41:12+00:00\n",
    "13\t44\t20\t4\t37\t2018-07-03T06:38:25+00:00\n",
    "27\t75\t3\t3\t4\t2017-07-29T09:42:56+00:00\n",
    "28\t54\t2\t1\t10\t2019-02-27T16:55:09+00:00\n",
    "1\t18\t104\t44\t44\t2014-09-02T18:24:14+00:00\n",
    "16\t42\t57\t36\t15\t2010-06-28T10:04:31+00:00\n",
    "2\t10\t0\t0\t4\t2019-12-23T09:07:22+00:00\n",
    "11\t11\t1\t1\t0\t2021-03-31T11:46:28+00:00\n",
    "12\t74\t7\t2\t6\t2017-06-23T19:03:23+00:00\n",
    "6\t171\t165\t17\t365\t2015-09-13T08:55:34+00:00\n",
    "10\t27\t131\t112\t20\t2018-12-29T20:55:43+00:00\n",
    "9\t16\t4\t2\t5\t2018-06-12T12:05:02+00:00\n",
    "4\t71\t112\t68\t19\t2019-12-05T13:17:03+00:00\n",
    "\n",
    "\n",
    "IMPORTANT instructions:\n",
    "1) Use JOINs if necessary, check the table and its usable columns, if using JOIN do it with extra CAUTION\n",
    "2) Dont forget to apply inverted commas when required.\n",
    "3) Give no explanation and directly provide answers.\n",
    "4) Take care when joining tables, use right set of table-column configuration\n",
    "5) When asked a question, consider slight variations / broader queries where relevant e.g. if the query is asking about talks on the topic of \"community\", a like statement would not be appropriate because talks about \"Open Source and Software Development\" should also be included and not just topics that contain the word community. I have provided all topics below.\n",
    "6) When asked a question about one of the tables e.g. github / speakers / talks / topics - first consider querying the table directly \n",
    "7) When asked a question that requires calculation, work directly with the table most related to the question and first consider which columns to work with e.g. counting how many speakers have github accounts will require doing a count(*) on the github table, while identifying who has the most stars on github will require sorting on star count with limit 1. If you needed to find which speaker has the newest github you would query with something like SELECT s.name, g.created_at FROM github g JOIN speakers s ON g.speaker_id = s.speaker_id ORDER BY g.created_at DESC LIMIT 1;\n",
    "8) Do not select frin pragma_table_info so do not return queries like: SELECT      m.name AS table_name,      p.name AS column_name,      p.type AS data_type FROM      sqlite_master m  JOIN      pragma_table_info(m.name) p  WHERE      m.type = 'table' ORDER BY      table_name, p.cid\n",
    "9) Be extra careful to only use columns that are available in where and join and group by clauses\n",
    "10) Feel free to use group by, limit, join where needed\n",
    "11) Come up with a sql query that best answers the question: {question}\n",
    "12) Return only a SQL query that answers the question and nothing else\n",
    "\n",
    "    \n",
    "    '''"
   ]
  },
  {
   "cell_type": "code",
   "execution_count": 17,
   "id": "60b12149-c17a-4f90-8f2f-8e98bf6baaeb",
   "metadata": {},
   "outputs": [],
   "source": [
    "prompt_write_SQL_query_for_question = get_prompt_write_SQL_query_for_question(question)"
   ]
  },
  {
   "cell_type": "code",
   "execution_count": 18,
   "id": "2e744934-4664-425b-9262-e8695d01646d",
   "metadata": {},
   "outputs": [
    {
     "name": "stdout",
     "output_type": "stream",
     "text": [
      "```sql\n",
      "SELECT COUNT(*) \n",
      "FROM talks \n",
      "JOIN topics ON talks.talk_id = topics.talk_id \n",
      "WHERE topics.assigned_topic LIKE '%AI and Machine Learning%'\n",
      "```\n"
     ]
    }
   ],
   "source": [
    "sql_query = run_chat_query(prompt_write_SQL_query_for_question)\n",
    "print(sql_query)"
   ]
  },
  {
   "cell_type": "code",
   "execution_count": 19,
   "id": "5dc09ac4-9125-4003-bf2b-698c7cd754b5",
   "metadata": {},
   "outputs": [],
   "source": [
    "def sanitize_sql_query(query):\n",
    "    \"\"\"\n",
    "    Sanitize the SQL query to ensure it's safe and valid for execution.\n",
    "    \"\"\"\n",
    "\n",
    "    query = query.replace(\"```sql\\n\",\"\").replace(\"\\n``\",\"\").replace(\"\\n\",\" \").replace(\"```\",\"\")\n",
    "    query = query.replace(\"```sql \",\"\").replace(\"sql \",\"\").replace(\"\\\\'\",\"'\")\n",
    "    query = query.replace(\"`\",\"\")\n",
    "    query = query.replace(\";`\", \"\")\n",
    "    \n",
    "    # Remove line breaks and extra spaces\n",
    "    query = query.replace(\"\\n\", \" \").replace(\"\\r\", \"\").strip()\n",
    "    \n",
    "    # Remove any trailing semicolon\n",
    "    if query.endswith(\";\"):\n",
    "        query = query[:-1]\n",
    "    # Remove any trailing semicolon\n",
    "    if query.endswith(\";\"):\n",
    "        query = query[:-1]\n",
    "    \n",
    "    return query\n"
   ]
  },
  {
   "cell_type": "code",
   "execution_count": 20,
   "id": "73ffa71d-a55f-41b6-807a-9fef89cff36c",
   "metadata": {},
   "outputs": [
    {
     "data": {
      "text/plain": [
       "\"SELECT COUNT(*)  FROM talks  JOIN topics ON talks.talk_id = topics.talk_id  WHERE topics.assigned_topic LIKE '%AI and Machine Learning%'\""
      ]
     },
     "execution_count": 20,
     "metadata": {},
     "output_type": "execute_result"
    }
   ],
   "source": [
    "# scrub sqlquery\n",
    "sql_query = sanitize_sql_query(sql_query)\n",
    "sql_query"
   ]
  },
  {
   "cell_type": "code",
   "execution_count": 21,
   "id": "7979e385-1d92-4a74-8d3e-187c01639dd5",
   "metadata": {},
   "outputs": [],
   "source": [
    "# query sql database with generated query\n",
    "sql_results = run_sql_query(sql_query)"
   ]
  },
  {
   "cell_type": "code",
   "execution_count": 22,
   "id": "4014bdac-2bfa-494e-bbdd-69eec42263cb",
   "metadata": {},
   "outputs": [],
   "source": [
    "def get_prompt_analyze_sql(question, sql_results):\n",
    "    return f'''\n",
    "    You are an expert analyst who can answer questions using supporting data which was returned from a SQL query on a dataset about the conference.\n",
    "        \n",
    "    Your job is to answer the input QUESTION, using the SQL_RESULTS in your answer and identifying any insights or trends you can from the results of the SQL query.\n",
    "    \n",
    "    The QUESTION is:\n",
    "    {question}\n",
    "    \n",
    "    The SQL_RESULTS are:\n",
    "    {sql_results}\n",
    "    \n",
    "    Important instructions\n",
    "    * return your answer in markdown\n",
    "    * be concise\n",
    "    * do not reference the SQL database or use the term SQL unless it's from a part of the data itself\n",
    "    * try to make points with short bullet points\n",
    "    * have a separate insights section with a markdown h2 and bullets for any insights you can deduce from the sql_results with respect to the question\n",
    "    * return the sql resutlts dataset as part of your response\n",
    "    \n",
    "    '''"
   ]
  },
  {
   "cell_type": "code",
   "execution_count": 34,
   "id": "fe8aa102-8d53-4194-a2aa-c44309b303bc",
   "metadata": {},
   "outputs": [
    {
     "data": {
      "text/markdown": [
       "- There are a total of 4 talks about artificial intelligence.\n",
       "\n",
       "### Insights\n",
       "- The number of AI-related talks suggests a significant interest in the topic at the conference.\n",
       "- AI appears to be a major area of focus, likely reflecting its growing importance across various industries.\n",
       "- Attendees interested in AI have multiple sessions to choose from, indicating a diverse range of subtopics or applications within AI.\n",
       "\n",
       "### SQL Results Dataset\n",
       "|   COUNT(*) |\n",
       "|------------|\n",
       "|          4 |"
      ],
      "text/plain": [
       "<IPython.core.display.Markdown object>"
      ]
     },
     "metadata": {},
     "output_type": "display_data"
    }
   ],
   "source": [
    "prompt_analyze_sql = get_prompt_analyze_sql(question, sql_results)\n",
    "print_markdown(run_chat_query(prompt_analyze_sql))"
   ]
  },
  {
   "cell_type": "markdown",
   "id": "35f691cb-21ad-4e78-b125-ab3ea11fd54d",
   "metadata": {},
   "source": [
    "> Works well!"
   ]
  },
  {
   "cell_type": "markdown",
   "id": "4e8e8eee-af88-4712-90fe-88fbdb1036dc",
   "metadata": {},
   "source": [
    "## LLM Type of Query:"
   ]
  },
  {
   "cell_type": "code",
   "execution_count": 25,
   "id": "db3bd5a6-cb97-48df-bc43-2e0e28b8dd73",
   "metadata": {},
   "outputs": [],
   "source": [
    "def get_prompt_analyze_llm(question):\n",
    "    return f'''\n",
    "    You are an expert analyst who can answer questions using supporting documents.\n",
    "        \n",
    "    Your job is to answer the input QUESTION, using the documents in your answer and identifying any insights.\n",
    "    \n",
    "    The QUESTION is:\n",
    "    {question}\n",
    "    \n",
    "    Important instructions\n",
    "    * answer in markdown\n",
    "    * be concise and try to make points with short bullet points\n",
    "    * answer only from the context from the documents, do not make up answers that are not supported by data\n",
    "    \n",
    "    '''"
   ]
  },
  {
   "cell_type": "code",
   "execution_count": 26,
   "id": "1edd2687-4c27-4c78-bcff-6954cecd86da",
   "metadata": {},
   "outputs": [
    {
     "name": "stdout",
     "output_type": "stream",
     "text": [
      "How many talks are there about artificial intelligence?\n"
     ]
    }
   ],
   "source": [
    "print(question)"
   ]
  },
  {
   "cell_type": "code",
   "execution_count": 50,
   "id": "48918d45-942c-4566-b68c-c9bf18b063f7",
   "metadata": {},
   "outputs": [
    {
     "data": {
      "text/markdown": [
       "Based on the provided context, there are two talks related to artificial intelligence:\n",
       "\n",
       "- **Talk ID: 1**\n",
       "  - Title: Applying AI with Python\n",
       "  - Speaker: Alex Conway\n",
       "  - Focus: Exploring how Python's AI libraries can solve real-world problems.\n",
       "\n",
       "- **Talk ID: 11**\n",
       "  - Title: Building a Decisioning Engine for Data Scientists: A Practical Guide\n",
       "  - Speaker: Sholto Armstrong\n",
       "  - Focus: Introducing a new open-source decisioning framework for predictive decision-making using AI.\n",
       "\n",
       "These talks cover various aspects of AI application and decision-making frameworks in Python."
      ],
      "text/plain": [
       "<IPython.core.display.Markdown object>"
      ]
     },
     "metadata": {},
     "output_type": "display_data"
    }
   ],
   "source": [
    "prompt_analyze_llm = get_prompt_analyze_llm(question)\n",
    "answer = run_chat_query(prompt_analyze_llm)\n",
    "print_markdown(answer)"
   ]
  },
  {
   "cell_type": "markdown",
   "id": "eefbebc3-8cfe-4749-b4b3-70d3ba2fc482",
   "metadata": {},
   "source": [
    "> fails as expected"
   ]
  },
  {
   "cell_type": "markdown",
   "id": "0c8b696c-42e4-4962-8d5a-d09f3ea3cd8a",
   "metadata": {},
   "source": [
    "# Does the answer actaully answer the question?"
   ]
  },
  {
   "cell_type": "code",
   "execution_count": 47,
   "id": "a10c1d48-8ce5-4d71-9fee-4683b54c1371",
   "metadata": {},
   "outputs": [],
   "source": [
    "def get_prompt_check_answer(question, answer):\n",
    "    return f'''\n",
    "    You are an expert analyst who can check if a given question is answered adequately by a given answer.\n",
    "        \n",
    "    Your job is to check if the input ANSWER actually answers the input QUESTION and answer YES or NO.\n",
    "    \n",
    "    The QUESTION is:\n",
    "    {question}\n",
    "\n",
    "    The ANSWER is:\n",
    "    {answer}\n",
    "    \n",
    "    Important instructions\n",
    "    * respond with only YES or NO\n",
    "    * if you are not sure then lean towards \"YES\"\n",
    "    \n",
    "    '''"
   ]
  },
  {
   "cell_type": "code",
   "execution_count": 52,
   "id": "460665eb-6ad4-4242-aa61-b66a9e89ba8e",
   "metadata": {},
   "outputs": [
    {
     "name": "stdout",
     "output_type": "stream",
     "text": [
      "Based on the provided context, there are two talks related to artificial intelligence:\n",
      "\n",
      "- **Talk ID: 1**\n",
      "  - Title: Applying AI with Python\n",
      "  - Speaker: Alex Conway\n",
      "  - Focus: Exploring how Python's AI libraries can solve real-world problems.\n",
      "\n",
      "- **Talk ID: 11**\n",
      "  - Title: Building a Decisioning Engine for Data Scientists: A Practical Guide\n",
      "  - Speaker: Sholto Armstrong\n",
      "  - Focus: Introducing a new open-source decisioning framework for predictive decision-making using AI.\n",
      "\n",
      "These talks cover various aspects of AI application and decision-making frameworks in Python.\n"
     ]
    }
   ],
   "source": [
    "print (answer)"
   ]
  },
  {
   "cell_type": "code",
   "execution_count": 53,
   "id": "65203819-86a9-4bcd-b49a-ae154d1d020f",
   "metadata": {},
   "outputs": [
    {
     "name": "stdout",
     "output_type": "stream",
     "text": [
      "How many talks are there about artificial intelligence?\n"
     ]
    }
   ],
   "source": [
    "print(question)"
   ]
  },
  {
   "cell_type": "code",
   "execution_count": 54,
   "id": "00cffc73-ff9c-44b9-a640-0d263a2d588c",
   "metadata": {},
   "outputs": [
    {
     "data": {
      "text/plain": [
       "'YES'"
      ]
     },
     "execution_count": 54,
     "metadata": {},
     "output_type": "execute_result"
    }
   ],
   "source": [
    "prompt_analyze_llm = get_prompt_check_answer(question, answer)\n",
    "answers_question = run_chat_query(prompt_analyze_llm)\n",
    "answers_question"
   ]
  },
  {
   "cell_type": "markdown",
   "id": "aea3dbda-4187-4f0d-a4ed-140c8e9704ab",
   "metadata": {},
   "source": [
    "# Rewrite the question"
   ]
  },
  {
   "cell_type": "code",
   "execution_count": 55,
   "id": "dd812977-7909-436a-aa85-f63f16b27f04",
   "metadata": {},
   "outputs": [],
   "source": [
    "def get_prompt_rewrite_question(question):\n",
    "    return f'''\n",
    "    You are an expert analyst who can answer questions using supporting documents.\n",
    "        \n",
    "    Your job is to rewrite the input question to be more understandable\n",
    "    \n",
    "    The QUESTION is:\n",
    "    {question}\n",
    "    \n",
    "    Important instructions\n",
    "    * respond with only a rewritten question \n",
    "    * your response must end in a question mark\n",
    "    * answer only from the context from the documents, do not make up answers that are not supported by data\n",
    "    \n",
    "    '''"
   ]
  },
  {
   "cell_type": "code",
   "execution_count": 56,
   "id": "dffea49e-8617-45c6-8c81-32747fe0f957",
   "metadata": {},
   "outputs": [
    {
     "data": {
      "text/markdown": [
       "How many presentations focus on artificial intelligence?"
      ],
      "text/plain": [
       "<IPython.core.display.Markdown object>"
      ]
     },
     "metadata": {},
     "output_type": "display_data"
    }
   ],
   "source": [
    "prompt_analyze_llm = get_prompt_rewrite_question(question)\n",
    "print_markdown(run_chat_query(prompt_analyze_llm))"
   ]
  },
  {
   "cell_type": "markdown",
   "id": "6b6864a1-2793-45c0-b8bb-9e2c0e0c3e56",
   "metadata": {},
   "source": [
    "# Write function to run pipeline"
   ]
  },
  {
   "cell_type": "code",
   "execution_count": 64,
   "id": "9b7e3fb5-fd83-4d26-b1da-5b0862d5f467",
   "metadata": {},
   "outputs": [],
   "source": [
    "def agent(question, max_retries=3):\n",
    "    max_retries = 2\n",
    "    attempt = 0\n",
    "    answers_question = \"no\"\n",
    "    while answers_question.lower() !=  \"yes\" and attempt < max_retries:  \n",
    "        # logging\n",
    "        attempt += 1\n",
    "        if attempt > 1:\n",
    "            print(f\"> Rewriting question {attempt}: {question}\")\n",
    "            clear_notebook_output()\n",
    "\n",
    "        # figure out if SQL or LLM question\n",
    "        prompt_decide_LLM_or_SQL = get_prompt_decide_LLM_or_SQL(question)\n",
    "        question_type = run_chat_query(prompt_decide_LLM_or_SQL)\n",
    "        \n",
    "        # reasoning\n",
    "        if question_type == \"SQL\":\n",
    "            print(\"Using SQL to inform answer\")\n",
    "            # write sql query\n",
    "            prompt_write_SQL_query_for_question = get_prompt_write_SQL_query_for_question(question)\n",
    "            sql_query = run_chat_query(prompt_write_SQL_query_for_question)\n",
    "            \n",
    "            # scrub sqlquery\n",
    "            sql_query = sanitize_sql_query(sql_query)\n",
    "    \n",
    "            print(f\"> Running SQL Query: {sql_query}\")\n",
    "            \n",
    "            # query sql database with generated query\n",
    "            sql_results = run_sql_query(sql_query)\n",
    "    \n",
    "            # construct answer with insights from the data\n",
    "            prompt_analyze_sql = get_prompt_analyze_sql(question, sql_results)\n",
    "            \n",
    "            answer = print_markdown(run_chat_query(prompt_analyze_sql))\n",
    "        else:\n",
    "            print(\"Using RAG to inform answer\")\n",
    "            if debug:\n",
    "                print(\"LLM query type\")\n",
    "            prompt_analyze_llm = get_prompt_analyze_llm(question)\n",
    "            answer = print_markdown(run_chat_query(prompt_analyze_llm))\n",
    "    \n",
    "        # check if answer actually answers the question\n",
    "        prompt_analyze_llm = get_prompt_check_answer(question, answer)\n",
    "        answers_question = str(run_chat_query(prompt_analyze_llm))\n",
    "\n",
    "        # rewrite question\n",
    "        prompt_analyze_llm = get_prompt_rewrite_question(question)\n",
    "        question = run_chat_query(prompt_analyze_llm)\n",
    "    return answer\n",
    "        "
   ]
  },
  {
   "cell_type": "code",
   "execution_count": 63,
   "id": "dcf3628a-46a1-4d0b-a5c2-48a597e60e13",
   "metadata": {},
   "outputs": [
    {
     "name": "stdout",
     "output_type": "stream",
     "text": [
      "Using SQL to inform answer\n",
      "> Running SQL Query: SELECT COUNT(*)  FROM talks  WHERE talk_id IN (     SELECT talk_id      FROM topics      WHERE assigned_topic = 'AI and Machine Learning' )\n"
     ]
    },
    {
     "data": {
      "text/markdown": [
       "- There are 4 talks about artificial intelligence.\n",
       "\n",
       "|   COUNT(*) |\n",
       "|------------|\n",
       "|          4 |\n",
       "\n",
       "## Insights\n",
       "- AI is a significant topic at the conference, with multiple sessions dedicated to it.\n",
       "- The focus on AI may indicate a strong interest or demand for knowledge in this area among attendees.\n",
       "- The presence of these talks suggests the importance and relevance of AI in current technological discussions and advancements."
      ],
      "text/plain": [
       "<IPython.core.display.Markdown object>"
      ]
     },
     "metadata": {},
     "output_type": "display_data"
    }
   ],
   "source": [
    "agent(\"How many talks are there about artificial intelligence?\")"
   ]
  },
  {
   "cell_type": "code",
   "execution_count": 65,
   "id": "0182c379-f2cd-469d-91d4-2336b9cb3faf",
   "metadata": {},
   "outputs": [
    {
     "name": "stdout",
     "output_type": "stream",
     "text": [
      "Using SQL to inform answer\n",
      "> Running SQL Query: SELECT s.name, g.created_at  FROM github g  JOIN speakers s ON g.speaker_id = s.speaker_id  ORDER BY g.created_at ASC  LIMIT 1\n"
     ]
    },
    {
     "data": {
      "text/markdown": [
       "**Answer:**\n",
       "\n",
       "- The speaker who created their GitHub account first is Cory Zue.\n",
       "\n",
       "**SQL Results:**\n",
       "\n",
       "| name    | created_at              |\n",
       "|---------|-------------------------|\n",
       "| Cory Zue | 2009-03-24T15:34:08+00:00 |\n",
       "\n",
       "## Insights\n",
       "\n",
       "- **Early Adopter**: Cory Zue established his GitHub account in 2009, indicating he was an early adopter of the platform.\n",
       "- **Potential Experience**: Having been on GitHub for a long time, Cory Zue likely has extensive experience in using the platform for collaborative software development."
      ],
      "text/plain": [
       "<IPython.core.display.Markdown object>"
      ]
     },
     "metadata": {},
     "output_type": "display_data"
    }
   ],
   "source": [
    "agent(\"Which speaker has the oldest github account?\")"
   ]
  },
  {
   "cell_type": "code",
   "execution_count": null,
   "id": "418ea57b-8d67-4d21-bccd-65642cdeb978",
   "metadata": {},
   "outputs": [
    {
     "name": "stdout",
     "output_type": "stream",
     "text": [
      "Using SQL to inform answer\n",
      "> Running SQL Query: SELECT assigned_topic, COUNT(*) AS topic_count FROM topics GROUP BY assigned_topic ORDER BY topic_count DESC LIMIT 1\n"
     ]
    }
   ],
   "source": [
    "agent(\"What is the most popular topic?\")"
   ]
  },
  {
   "cell_type": "code",
   "execution_count": null,
   "id": "4e4c2417-39ec-469b-b39a-cdb7b794ccc5",
   "metadata": {},
   "outputs": [],
   "source": [
    "agent(\"Which 5 talks should I go to if I am interested in data science?\")"
   ]
  },
  {
   "cell_type": "code",
   "execution_count": null,
   "id": "317771ec-b4f9-40a4-aae8-428185c9152b",
   "metadata": {},
   "outputs": [],
   "source": [
    "agent(\"What is the main topic of the conference?\")"
   ]
  },
  {
   "cell_type": "code",
   "execution_count": null,
   "id": "cca719dd-dc52-459a-a885-b61dfeb09d07",
   "metadata": {},
   "outputs": [],
   "source": [
    "agent(\"Which speaker has the most active github account?\")"
   ]
  },
  {
   "cell_type": "code",
   "execution_count": null,
   "id": "22d06804-1e1b-4381-a2d6-829e099dde33",
   "metadata": {},
   "outputs": [],
   "source": []
  }
 ],
 "metadata": {
  "kernelspec": {
   "display_name": "pycon venv",
   "language": "python",
   "name": "venv"
  },
  "language_info": {
   "codemirror_mode": {
    "name": "ipython",
    "version": 3
   },
   "file_extension": ".py",
   "mimetype": "text/x-python",
   "name": "python",
   "nbconvert_exporter": "python",
   "pygments_lexer": "ipython3",
   "version": "3.11.0"
  }
 },
 "nbformat": 4,
 "nbformat_minor": 5
}
