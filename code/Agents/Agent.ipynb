{
 "cells": [
  {
   "cell_type": "markdown",
   "id": "1137fd06-f2ee-454c-936d-393b1494d68c",
   "metadata": {},
   "source": [
    "# Imports"
   ]
  },
  {
   "cell_type": "code",
   "execution_count": 1,
   "id": "87c28eda-4610-4ee6-9f7e-33c1e2f55f81",
   "metadata": {},
   "outputs": [],
   "source": [
    "import sqlite3\n",
    "import pandas as pd"
   ]
  },
  {
   "cell_type": "code",
   "execution_count": 2,
   "id": "76141f7c-bdd1-4084-b2d6-6af9c38eb3a7",
   "metadata": {},
   "outputs": [],
   "source": [
    "from langchain.chains import RetrievalQA\n",
    "from langchain.vectorstores import FAISS\n",
    "from langchain.embeddings.openai import OpenAIEmbeddings\n",
    "from langchain_openai import ChatOpenAI"
   ]
  },
  {
   "cell_type": "code",
   "execution_count": 50,
   "id": "9b878319-0cdc-4529-9de9-aed565b646a7",
   "metadata": {},
   "outputs": [],
   "source": [
    "from IPython.display import Markdown, display\n",
    "\n",
    "def print_markdown(text):\n",
    "    display(Markdown(text))"
   ]
  },
  {
   "cell_type": "code",
   "execution_count": 3,
   "id": "669475fd-c152-4840-ae75-d25470f1ceea",
   "metadata": {},
   "outputs": [],
   "source": [
    "import warnings\n",
    "\n",
    "# Suppress all warnings\n",
    "warnings.filterwarnings('ignore')\n"
   ]
  },
  {
   "cell_type": "markdown",
   "id": "f157d84c-c7dd-4981-a5ac-145f8fabd550",
   "metadata": {},
   "source": [
    "# Load Vector Store"
   ]
  },
  {
   "cell_type": "code",
   "execution_count": 7,
   "id": "3b8ae933-3727-4959-a821-ac3cf600197d",
   "metadata": {},
   "outputs": [],
   "source": [
    "# Load FAISS index\n",
    "vectorstore = FAISS.load_local(\n",
    "    \"faiss_index\", \n",
    "    OpenAIEmbeddings(model=\"text-embedding-ada-002\"), \n",
    "    allow_dangerous_deserialization=True\n",
    ")\n",
    "\n",
    "# Initialize the language model (chat model)\n",
    "llm = ChatOpenAI(model=\"gpt-4o\",\n",
    "                max_tokens=None,\n",
    "                timeout=None,\n",
    "                max_retries=5)"
   ]
  },
  {
   "cell_type": "markdown",
   "id": "59dc6510-e3b6-4367-a9f3-d255bc7fd106",
   "metadata": {},
   "source": [
    "# Setup RAG "
   ]
  },
  {
   "cell_type": "code",
   "execution_count": 8,
   "id": "d061def1-20bd-4f9a-a020-d93fea5198e0",
   "metadata": {},
   "outputs": [],
   "source": [
    "# Set up Retrieval Augmented Generation (RAG)\n",
    "qa_chain = RetrievalQA.from_chain_type(llm, retriever=vectorstore.as_retriever())"
   ]
  },
  {
   "cell_type": "code",
   "execution_count": 9,
   "id": "84d61fc5-5615-4989-a680-2c7a659d1fc8",
   "metadata": {},
   "outputs": [],
   "source": [
    "def run_chat_query(query):\n",
    "    return qa_chain.run(query)"
   ]
  },
  {
   "cell_type": "code",
   "execution_count": 12,
   "id": "b9ca3c39-9029-4e32-8754-a8ca240250be",
   "metadata": {},
   "outputs": [
    {
     "data": {
      "text/plain": [
       "'Python-focused programming and technology advancements.'"
      ]
     },
     "execution_count": 12,
     "metadata": {},
     "output_type": "execute_result"
    }
   ],
   "source": [
    "run_chat_query(\"What is the main topic of the conference [<10 words]\")"
   ]
  },
  {
   "cell_type": "markdown",
   "id": "b6ee01a5-4c52-4ec0-872d-b3b07591a618",
   "metadata": {},
   "source": [
    "# Setup SQL Database"
   ]
  },
  {
   "cell_type": "code",
   "execution_count": 25,
   "id": "123792b0-ecc6-4db5-a857-827794f5be2a",
   "metadata": {},
   "outputs": [],
   "source": [
    "def run_sql_query(query):\n",
    "    # Create a SQLite connection\n",
    "    conn = sqlite3.connect('data/conference_data.db')\n",
    "    try:\n",
    "        result = pd.read_sql_query(query, conn)\n",
    "        print(\"Running SQL Query:\")\n",
    "        print(query)\n",
    "        print(result)  \n",
    "        return result\n",
    "    except Exception as e:\n",
    "        print(f\"Error occurred: {e}\")\n",
    "    finally:\n",
    "        conn.close()\n",
    "    return None\n"
   ]
  },
  {
   "cell_type": "code",
   "execution_count": 9,
   "id": "d86a1d35-09cb-46fd-8a38-ca0f528e3293",
   "metadata": {
    "scrolled": true
   },
   "outputs": [
    {
     "name": "stdout",
     "output_type": "stream",
     "text": [
      "Running SQL Query:\n",
      "\n",
      "SELECT \n",
      "    m.name AS table_name, \n",
      "    p.name AS column_name, \n",
      "    p.type AS data_type\n",
      "FROM \n",
      "    sqlite_master m \n",
      "JOIN \n",
      "    pragma_table_info(m.name) p \n",
      "WHERE \n",
      "    m.type = 'table'\n",
      "ORDER BY \n",
      "    table_name, p.cid;\n",
      "\n",
      "\n",
      "\n",
      "   table_name              column_name data_type\n",
      "0      github               speaker_id   INTEGER\n",
      "1      github               github_url      TEXT\n",
      "2      github                 username      TEXT\n",
      "3      github                     name      TEXT\n",
      "4      github             public_repos   INTEGER\n",
      "5      github              total_stars   INTEGER\n",
      "6      github   most_starred_repo_name      TEXT\n",
      "7      github  most_starred_repo_stars   INTEGER\n",
      "8      github     last_commit_datetime      TEXT\n",
      "9      github  hours_since_last_commit      REAL\n",
      "10     github                followers   INTEGER\n",
      "11     github                following   INTEGER\n",
      "12     github               created_at      TEXT\n",
      "13     github                  company      TEXT\n",
      "14     github                      bio      TEXT\n",
      "15     github                 location      TEXT\n",
      "16     github                     blog      TEXT\n",
      "17     github                    email      TEXT\n",
      "18   speakers               speaker_id   INTEGER\n",
      "19   speakers                     name      TEXT\n",
      "20   speakers              profile_url      TEXT\n",
      "21   speakers                photo_url      TEXT\n",
      "22   speakers                  twitter      TEXT\n",
      "23   speakers                   github      TEXT\n",
      "24   speakers                fediverse      TEXT\n",
      "25   speakers               bio_part_1      TEXT\n",
      "26   speakers               bio_part_2      TEXT\n",
      "27   speakers               bio_part_3      TEXT\n",
      "28      talks                  talk_id   INTEGER\n",
      "29      talks                    title      TEXT\n",
      "30      talks                 abstract      TEXT\n",
      "31      talks             speaker_name      TEXT\n",
      "32      talks      speaker_profile_url      TEXT\n",
      "33      talks                 talk_url      TEXT\n",
      "34      talks               speaker_id   INTEGER\n",
      "35     topics                  talk_id   INTEGER\n",
      "36     topics           assigned_topic      TEXT\n"
     ]
    },
    {
     "data": {
      "text/html": [
       "<div>\n",
       "<style scoped>\n",
       "    .dataframe tbody tr th:only-of-type {\n",
       "        vertical-align: middle;\n",
       "    }\n",
       "\n",
       "    .dataframe tbody tr th {\n",
       "        vertical-align: top;\n",
       "    }\n",
       "\n",
       "    .dataframe thead th {\n",
       "        text-align: right;\n",
       "    }\n",
       "</style>\n",
       "<table border=\"1\" class=\"dataframe\">\n",
       "  <thead>\n",
       "    <tr style=\"text-align: right;\">\n",
       "      <th></th>\n",
       "      <th>table_name</th>\n",
       "      <th>column_name</th>\n",
       "      <th>data_type</th>\n",
       "    </tr>\n",
       "  </thead>\n",
       "  <tbody>\n",
       "    <tr>\n",
       "      <th>0</th>\n",
       "      <td>github</td>\n",
       "      <td>speaker_id</td>\n",
       "      <td>INTEGER</td>\n",
       "    </tr>\n",
       "    <tr>\n",
       "      <th>1</th>\n",
       "      <td>github</td>\n",
       "      <td>github_url</td>\n",
       "      <td>TEXT</td>\n",
       "    </tr>\n",
       "    <tr>\n",
       "      <th>2</th>\n",
       "      <td>github</td>\n",
       "      <td>username</td>\n",
       "      <td>TEXT</td>\n",
       "    </tr>\n",
       "    <tr>\n",
       "      <th>3</th>\n",
       "      <td>github</td>\n",
       "      <td>name</td>\n",
       "      <td>TEXT</td>\n",
       "    </tr>\n",
       "    <tr>\n",
       "      <th>4</th>\n",
       "      <td>github</td>\n",
       "      <td>public_repos</td>\n",
       "      <td>INTEGER</td>\n",
       "    </tr>\n",
       "    <tr>\n",
       "      <th>5</th>\n",
       "      <td>github</td>\n",
       "      <td>total_stars</td>\n",
       "      <td>INTEGER</td>\n",
       "    </tr>\n",
       "    <tr>\n",
       "      <th>6</th>\n",
       "      <td>github</td>\n",
       "      <td>most_starred_repo_name</td>\n",
       "      <td>TEXT</td>\n",
       "    </tr>\n",
       "    <tr>\n",
       "      <th>7</th>\n",
       "      <td>github</td>\n",
       "      <td>most_starred_repo_stars</td>\n",
       "      <td>INTEGER</td>\n",
       "    </tr>\n",
       "    <tr>\n",
       "      <th>8</th>\n",
       "      <td>github</td>\n",
       "      <td>last_commit_datetime</td>\n",
       "      <td>TEXT</td>\n",
       "    </tr>\n",
       "    <tr>\n",
       "      <th>9</th>\n",
       "      <td>github</td>\n",
       "      <td>hours_since_last_commit</td>\n",
       "      <td>REAL</td>\n",
       "    </tr>\n",
       "    <tr>\n",
       "      <th>10</th>\n",
       "      <td>github</td>\n",
       "      <td>followers</td>\n",
       "      <td>INTEGER</td>\n",
       "    </tr>\n",
       "    <tr>\n",
       "      <th>11</th>\n",
       "      <td>github</td>\n",
       "      <td>following</td>\n",
       "      <td>INTEGER</td>\n",
       "    </tr>\n",
       "    <tr>\n",
       "      <th>12</th>\n",
       "      <td>github</td>\n",
       "      <td>created_at</td>\n",
       "      <td>TEXT</td>\n",
       "    </tr>\n",
       "    <tr>\n",
       "      <th>13</th>\n",
       "      <td>github</td>\n",
       "      <td>company</td>\n",
       "      <td>TEXT</td>\n",
       "    </tr>\n",
       "    <tr>\n",
       "      <th>14</th>\n",
       "      <td>github</td>\n",
       "      <td>bio</td>\n",
       "      <td>TEXT</td>\n",
       "    </tr>\n",
       "    <tr>\n",
       "      <th>15</th>\n",
       "      <td>github</td>\n",
       "      <td>location</td>\n",
       "      <td>TEXT</td>\n",
       "    </tr>\n",
       "    <tr>\n",
       "      <th>16</th>\n",
       "      <td>github</td>\n",
       "      <td>blog</td>\n",
       "      <td>TEXT</td>\n",
       "    </tr>\n",
       "    <tr>\n",
       "      <th>17</th>\n",
       "      <td>github</td>\n",
       "      <td>email</td>\n",
       "      <td>TEXT</td>\n",
       "    </tr>\n",
       "    <tr>\n",
       "      <th>18</th>\n",
       "      <td>speakers</td>\n",
       "      <td>speaker_id</td>\n",
       "      <td>INTEGER</td>\n",
       "    </tr>\n",
       "    <tr>\n",
       "      <th>19</th>\n",
       "      <td>speakers</td>\n",
       "      <td>name</td>\n",
       "      <td>TEXT</td>\n",
       "    </tr>\n",
       "    <tr>\n",
       "      <th>20</th>\n",
       "      <td>speakers</td>\n",
       "      <td>profile_url</td>\n",
       "      <td>TEXT</td>\n",
       "    </tr>\n",
       "    <tr>\n",
       "      <th>21</th>\n",
       "      <td>speakers</td>\n",
       "      <td>photo_url</td>\n",
       "      <td>TEXT</td>\n",
       "    </tr>\n",
       "    <tr>\n",
       "      <th>22</th>\n",
       "      <td>speakers</td>\n",
       "      <td>twitter</td>\n",
       "      <td>TEXT</td>\n",
       "    </tr>\n",
       "    <tr>\n",
       "      <th>23</th>\n",
       "      <td>speakers</td>\n",
       "      <td>github</td>\n",
       "      <td>TEXT</td>\n",
       "    </tr>\n",
       "    <tr>\n",
       "      <th>24</th>\n",
       "      <td>speakers</td>\n",
       "      <td>fediverse</td>\n",
       "      <td>TEXT</td>\n",
       "    </tr>\n",
       "    <tr>\n",
       "      <th>25</th>\n",
       "      <td>speakers</td>\n",
       "      <td>bio_part_1</td>\n",
       "      <td>TEXT</td>\n",
       "    </tr>\n",
       "    <tr>\n",
       "      <th>26</th>\n",
       "      <td>speakers</td>\n",
       "      <td>bio_part_2</td>\n",
       "      <td>TEXT</td>\n",
       "    </tr>\n",
       "    <tr>\n",
       "      <th>27</th>\n",
       "      <td>speakers</td>\n",
       "      <td>bio_part_3</td>\n",
       "      <td>TEXT</td>\n",
       "    </tr>\n",
       "    <tr>\n",
       "      <th>28</th>\n",
       "      <td>talks</td>\n",
       "      <td>talk_id</td>\n",
       "      <td>INTEGER</td>\n",
       "    </tr>\n",
       "    <tr>\n",
       "      <th>29</th>\n",
       "      <td>talks</td>\n",
       "      <td>title</td>\n",
       "      <td>TEXT</td>\n",
       "    </tr>\n",
       "    <tr>\n",
       "      <th>30</th>\n",
       "      <td>talks</td>\n",
       "      <td>abstract</td>\n",
       "      <td>TEXT</td>\n",
       "    </tr>\n",
       "    <tr>\n",
       "      <th>31</th>\n",
       "      <td>talks</td>\n",
       "      <td>speaker_name</td>\n",
       "      <td>TEXT</td>\n",
       "    </tr>\n",
       "    <tr>\n",
       "      <th>32</th>\n",
       "      <td>talks</td>\n",
       "      <td>speaker_profile_url</td>\n",
       "      <td>TEXT</td>\n",
       "    </tr>\n",
       "    <tr>\n",
       "      <th>33</th>\n",
       "      <td>talks</td>\n",
       "      <td>talk_url</td>\n",
       "      <td>TEXT</td>\n",
       "    </tr>\n",
       "    <tr>\n",
       "      <th>34</th>\n",
       "      <td>talks</td>\n",
       "      <td>speaker_id</td>\n",
       "      <td>INTEGER</td>\n",
       "    </tr>\n",
       "    <tr>\n",
       "      <th>35</th>\n",
       "      <td>topics</td>\n",
       "      <td>talk_id</td>\n",
       "      <td>INTEGER</td>\n",
       "    </tr>\n",
       "    <tr>\n",
       "      <th>36</th>\n",
       "      <td>topics</td>\n",
       "      <td>assigned_topic</td>\n",
       "      <td>TEXT</td>\n",
       "    </tr>\n",
       "  </tbody>\n",
       "</table>\n",
       "</div>"
      ],
      "text/plain": [
       "   table_name              column_name data_type\n",
       "0      github               speaker_id   INTEGER\n",
       "1      github               github_url      TEXT\n",
       "2      github                 username      TEXT\n",
       "3      github                     name      TEXT\n",
       "4      github             public_repos   INTEGER\n",
       "5      github              total_stars   INTEGER\n",
       "6      github   most_starred_repo_name      TEXT\n",
       "7      github  most_starred_repo_stars   INTEGER\n",
       "8      github     last_commit_datetime      TEXT\n",
       "9      github  hours_since_last_commit      REAL\n",
       "10     github                followers   INTEGER\n",
       "11     github                following   INTEGER\n",
       "12     github               created_at      TEXT\n",
       "13     github                  company      TEXT\n",
       "14     github                      bio      TEXT\n",
       "15     github                 location      TEXT\n",
       "16     github                     blog      TEXT\n",
       "17     github                    email      TEXT\n",
       "18   speakers               speaker_id   INTEGER\n",
       "19   speakers                     name      TEXT\n",
       "20   speakers              profile_url      TEXT\n",
       "21   speakers                photo_url      TEXT\n",
       "22   speakers                  twitter      TEXT\n",
       "23   speakers                   github      TEXT\n",
       "24   speakers                fediverse      TEXT\n",
       "25   speakers               bio_part_1      TEXT\n",
       "26   speakers               bio_part_2      TEXT\n",
       "27   speakers               bio_part_3      TEXT\n",
       "28      talks                  talk_id   INTEGER\n",
       "29      talks                    title      TEXT\n",
       "30      talks                 abstract      TEXT\n",
       "31      talks             speaker_name      TEXT\n",
       "32      talks      speaker_profile_url      TEXT\n",
       "33      talks                 talk_url      TEXT\n",
       "34      talks               speaker_id   INTEGER\n",
       "35     topics                  talk_id   INTEGER\n",
       "36     topics           assigned_topic      TEXT"
      ]
     },
     "execution_count": 9,
     "metadata": {},
     "output_type": "execute_result"
    }
   ],
   "source": [
    "query = '''\n",
    "SELECT \n",
    "    m.name AS table_name, \n",
    "    p.name AS column_name, \n",
    "    p.type AS data_type\n",
    "FROM \n",
    "    sqlite_master m \n",
    "JOIN \n",
    "    pragma_table_info(m.name) p \n",
    "WHERE \n",
    "    m.type = 'table'\n",
    "ORDER BY \n",
    "    table_name, p.cid;\n",
    "\n",
    "\n",
    "'''\n",
    "run_sql_query(query)"
   ]
  },
  {
   "cell_type": "code",
   "execution_count": 13,
   "id": "a93507b9-af68-43ff-9fb1-12603b4930bd",
   "metadata": {},
   "outputs": [
    {
     "name": "stdout",
     "output_type": "stream",
     "text": [
      "Running SQL Query:\n",
      "\n",
      "SELECT COUNT(*)\n",
      "FROM talks t;\n",
      "\n",
      "   COUNT(*)\n",
      "0        36\n"
     ]
    },
    {
     "data": {
      "text/html": [
       "<div>\n",
       "<style scoped>\n",
       "    .dataframe tbody tr th:only-of-type {\n",
       "        vertical-align: middle;\n",
       "    }\n",
       "\n",
       "    .dataframe tbody tr th {\n",
       "        vertical-align: top;\n",
       "    }\n",
       "\n",
       "    .dataframe thead th {\n",
       "        text-align: right;\n",
       "    }\n",
       "</style>\n",
       "<table border=\"1\" class=\"dataframe\">\n",
       "  <thead>\n",
       "    <tr style=\"text-align: right;\">\n",
       "      <th></th>\n",
       "      <th>COUNT(*)</th>\n",
       "    </tr>\n",
       "  </thead>\n",
       "  <tbody>\n",
       "    <tr>\n",
       "      <th>0</th>\n",
       "      <td>36</td>\n",
       "    </tr>\n",
       "  </tbody>\n",
       "</table>\n",
       "</div>"
      ],
      "text/plain": [
       "   COUNT(*)\n",
       "0        36"
      ]
     },
     "execution_count": 13,
     "metadata": {},
     "output_type": "execute_result"
    }
   ],
   "source": [
    "query = '''\n",
    "SELECT COUNT(*)\n",
    "FROM talks t;\n",
    "'''\n",
    "run_sql_query(query)"
   ]
  },
  {
   "cell_type": "markdown",
   "id": "7a7c659a-d120-41dc-a285-83c5a88c3145",
   "metadata": {},
   "source": [
    "# Write Prompt route query type either to the LLM or to the SQL engine"
   ]
  },
  {
   "cell_type": "code",
   "execution_count": 14,
   "id": "a8a91338-f2c1-442a-8688-974b6b97f769",
   "metadata": {},
   "outputs": [],
   "source": [
    "question = \"How many talks in each category?\""
   ]
  },
  {
   "cell_type": "code",
   "execution_count": 39,
   "id": "fbe92387-9805-4ed6-93e7-57191d7fd0ec",
   "metadata": {},
   "outputs": [],
   "source": [
    "def get_prompt_decide_LLM_or_SQL(question):\n",
    "    return f'''\n",
    "    You are an expert analyst who can decide whether it is better to rely on a database of documents and general reasoning or whether we should use a sql query to answer a question\n",
    "        \n",
    "    Your job is to decide whether the input QUESTION would be better answered with SQL or LLM.\n",
    "    \n",
    "    A question answered better with SQL will tend to be analytical or questions about numbers.\n",
    "    \n",
    "    A question better answered with an LLM that has documents in its context via RAG would be something like \"what is alex conway's talk about\"\n",
    "    \n",
    "    The QUESTION is:\n",
    "    {question}\n",
    "    \n",
    "    When you believe it is better to answer with the LLM and the document store, reply \"LLM\" and nothing else.\n",
    "    \n",
    "    When you believe it is better to write a SQL query and check the database to answer the question then reply \"SQL\" and nothing else.\n",
    "        \n",
    "        IMPORTANT instructions:\n",
    "        1) Only reply with a single word - either SQL or LLM\n",
    "    \n",
    "    \n",
    "    Here is the table structure of the sql data:\n",
    "    github table:\n",
    "    speaker_id,github_url,username,name,public_repos,total_stars,most_starred_repo_name,most_starred_repo_stars,last_commit_datetime,hours_since_last_commit,followers,following,created_at,company,bio,location,blog,email\n",
    "    8,https://github.com/sixfeetup,sixfeetup,Six Feet Up,127,210,scaf,79,2024-09-25T17:04:43+00:00,164.0354158066667,19,0,2011-09-08T20:39:11+00:00,,\"Accelerating IMPACT with App Dev, AI & Big Data\",\"Fishers, IN\",http://www.sixfeetup.com,info@sixfeetup.com\n",
    "    20,https://github.com/gijzelaerr,gijzelaerr,Gijs Molenaar,172,748,python-snap7,648,2024-09-17T16:20:59+00:00,356.8318311875,188,111,2010-07-08T11:22:39+00:00,spotify,\"astro software composer, music brewer, beer programmer, senior system engineer @spotify\",Amsterdam - Windhoek,http://pythonic.nl,gijsmolenaar@gmail.com\n",
    "    21,https://github.com/luisdza,luisdza,Luis de Sousa,8,3,aerialmzansi-website,2,2024-08-22T13:24:29+00:00,983.7772850216667,23,112,2014-04-12T05:41:28+00:00,@Syeop,Creating and dreaming,\"Johannesburg, South Africa\",,\n",
    "    ...\n",
    "    \n",
    "    speakers table:\n",
    "    Speaker ID,Name,Profile URL,Photo URL,Twitter,GitHub,Fediverse,Bio Part 1,Bio Part 2,Bio Part 3\n",
    "    1,Alex Conway,https://2024.za.pycon.org/users/alxcnwy/,No photo available,https://twitter.com/alxcnwy,https://github.com/alxcnwy,,Twitter Profile link:https://twitter.com/alxcnwy,Other Social:https://www.linkedin.com/in/alxcnwy/,github profile:https://github.com/alxcnwy\n",
    "    2,Nunudzai Mrewa,https://2024.za.pycon.org/users/JustNunuz/,No photo available,,https://github.com/JustNunuz,,Twitter Profile link:https://x.com/_absolute_z3r0,Other Social:https://www.linkedin.com/in/nunuz/,github profile:https://github.com/JustNunuz\n",
    "    3,Brenden Taylor,https://2024.za.pycon.org/users/brenden.taylor22/,No photo available,,,,\"I am a data scientist at Praelexis, in Stellenbosch. I have mostly worked in financial services, specifically in time series forecasting in Python.\",,\n",
    "    ...\n",
    "    \n",
    "    talks table:\n",
    "    Talk ID,Title,Abstract,Speaker Name,Speaker Profile URL,Talk URL,Speaker ID\n",
    "    1,Applying AI with Python,\"Artificial Intelligence (AI) is transforming industries and our lives by enabling computers to solve increasingly complex tasks, and Python stands at the forefront of this revolution. In this talk, we will explore how Python's rich ecosystem of AI libraries and frameworks can be harnessed to quickly solve real-world problems without needing a PhD. From computer vision to time series analysis to natural language processing and AI agents, this session will demonstrate practical AI applications in real-world use cases that leverage Python's versatility so you can get started using AI right away.\n",
    "    ...\n",
    "    \n",
    "    topics table:\n",
    "    Talk ID,Assigned Topic\n",
    "    1,AI and Machine Learning\n",
    "    2,Community and Tech Education\n",
    "    3,Time Series Analysis\n",
    "    4,AI and Machine Learning\n",
    "    5,Natural Language Processing (NLP)\n",
    "    6,Community and Tech Education\n",
    "    7,Community and Tech Education\n",
    "    8,Community and Tech Education\n",
    "    ...\n",
    "    \n",
    "    \n",
    "    '''"
   ]
  },
  {
   "cell_type": "code",
   "execution_count": 40,
   "id": "ff0deb4c-5bdf-45cc-816f-ded2ba5b830f",
   "metadata": {},
   "outputs": [
    {
     "data": {
      "text/plain": [
       "'SQL'"
      ]
     },
     "execution_count": 40,
     "metadata": {},
     "output_type": "execute_result"
    }
   ],
   "source": [
    "prompt_decide_LLM_or_SQL = get_prompt_decide_LLM_or_SQL(question)\n",
    "run_chat_query(prompt_decide_LLM_or_SQL)"
   ]
  },
  {
   "cell_type": "code",
   "execution_count": 42,
   "id": "9cc91bd9-d83a-48dc-86a5-a051664e2bc0",
   "metadata": {},
   "outputs": [],
   "source": [
    "def get_prompt_write_SQL_query_for_question(question):\n",
    "    return f'''\n",
    "    You are a Senior SQL Programmer who can understand the complex table structures and form SQL queries as per the user's question.\n",
    "        \n",
    "    Your job is to write a SQL query that answers the question and return the SQL code for the query and nothing else.\n",
    "    \n",
    "    The QUESTION is:\n",
    "    {question}\n",
    "    \n",
    "        \n",
    "        IMPORTANT instructions:\n",
    "        1) Dont use JOIN if it is not necessary, check the table and its usable columns, if using JOIN do it with extra CAUTION\n",
    "        2) Dont forget to apply inverted commas when required.\n",
    "        3) Give no explanation and directly provide answers.\n",
    "        4) Take care when joining tables, use right set of table-column configuration\n",
    "        5) Return only a SQL query and nothing else\n",
    "    \n",
    "    Here is the table structure of the sql data:\n",
    "    \n",
    "       table_name              column_name data_type\n",
    "    0      github               speaker_id   INTEGER\n",
    "    1      github               github_url      TEXT\n",
    "    2      github                 username      TEXT\n",
    "    3      github                     name      TEXT\n",
    "    4      github             public_repos   INTEGER\n",
    "    5      github              total_stars   INTEGER\n",
    "    6      github   most_starred_repo_name      TEXT\n",
    "    7      github  most_starred_repo_stars   INTEGER\n",
    "    8      github     last_commit_datetime      TEXT\n",
    "    9      github  hours_since_last_commit      REAL\n",
    "    10     github                followers   INTEGER\n",
    "    11     github                following   INTEGER\n",
    "    12     github               created_at      TEXT\n",
    "    13     github                  company      TEXT\n",
    "    14     github                      bio      TEXT\n",
    "    15     github                 location      TEXT\n",
    "    16     github                     blog      TEXT\n",
    "    17     github                    email      TEXT\n",
    "    18   speakers               speaker_id   INTEGER\n",
    "    19   speakers                     name      TEXT\n",
    "    20   speakers              profile_url      TEXT\n",
    "    21   speakers                photo_url      TEXT\n",
    "    22   speakers                  twitter      TEXT\n",
    "    23   speakers                   github      TEXT\n",
    "    24   speakers                fediverse      TEXT\n",
    "    25   speakers               bio_part_1      TEXT\n",
    "    26   speakers               bio_part_2      TEXT\n",
    "    27   speakers               bio_part_3      TEXT\n",
    "    28      talks                  talk_id   INTEGER\n",
    "    29      talks                    title      TEXT\n",
    "    30      talks                 abstract      TEXT\n",
    "    31      talks             speaker_name      TEXT\n",
    "    32      talks      speaker_profile_url      TEXT\n",
    "    33      talks                 talk_url      TEXT\n",
    "    34      talks               speaker_id   INTEGER\n",
    "    35     topics                  talk_id   INTEGER\n",
    "    36     topics           assigned_topic      TEXT\n",
    "    \n",
    "    \n",
    "    \n",
    "    Here is some smaple rows from the database:\n",
    "    \n",
    "    github table:\n",
    "    speaker_id,github_url,username,name,public_repos,total_stars,most_starred_repo_name,most_starred_repo_stars,last_commit_datetime,hours_since_last_commit,followers,following,created_at,company,bio,location,blog,email\n",
    "    8,https://github.com/sixfeetup,sixfeetup,Six Feet Up,127,210,scaf,79,2024-09-25T17:04:43+00:00,164.0354158066667,19,0,2011-09-08T20:39:11+00:00,,\"Accelerating IMPACT with App Dev, AI & Big Data\",\"Fishers, IN\",http://www.sixfeetup.com,info@sixfeetup.com\n",
    "    20,https://github.com/gijzelaerr,gijzelaerr,Gijs Molenaar,172,748,python-snap7,648,2024-09-17T16:20:59+00:00,356.8318311875,188,111,2010-07-08T11:22:39+00:00,spotify,\"astro software composer, music brewer, beer programmer, senior system engineer @spotify\",Amsterdam - Windhoek,http://pythonic.nl,gijsmolenaar@gmail.com\n",
    "    21,https://github.com/luisdza,luisdza,Luis de Sousa,8,3,aerialmzansi-website,2,2024-08-22T13:24:29+00:00,983.7772850216667,23,112,2014-04-12T05:41:28+00:00,@Syeop,Creating and dreaming,\"Johannesburg, South Africa\",,\n",
    "    ...\n",
    "    \n",
    "    speakers table:\n",
    "    Speaker ID,Name,Profile URL,Photo URL,Twitter,GitHub,Fediverse,Bio Part 1,Bio Part 2,Bio Part 3\n",
    "    1,Alex Conway,https://2024.za.pycon.org/users/alxcnwy/,No photo available,https://twitter.com/alxcnwy,https://github.com/alxcnwy,,Twitter Profile link:https://twitter.com/alxcnwy,Other Social:https://www.linkedin.com/in/alxcnwy/,github profile:https://github.com/alxcnwy\n",
    "    2,Nunudzai Mrewa,https://2024.za.pycon.org/users/JustNunuz/,No photo available,,https://github.com/JustNunuz,,Twitter Profile link:https://x.com/_absolute_z3r0,Other Social:https://www.linkedin.com/in/nunuz/,github profile:https://github.com/JustNunuz\n",
    "    3,Brenden Taylor,https://2024.za.pycon.org/users/brenden.taylor22/,No photo available,,,,\"I am a data scientist at Praelexis, in Stellenbosch. I have mostly worked in financial services, specifically in time series forecasting in Python.\",,\n",
    "    ...\n",
    "    \n",
    "    talks table:\n",
    "    Talk ID,Title,Abstract,Speaker Name,Speaker Profile URL,Talk URL,Speaker ID\n",
    "    1,Applying AI with Python,\"Artificial Intelligence (AI) is transforming industries and our lives by enabling computers to solve increasingly complex tasks, and Python stands at the forefront of this revolution. In this talk, we will explore how Python's rich ecosystem of AI libraries and frameworks can be harnessed to quickly solve real-world problems without needing a PhD. From computer vision to time series analysis to natural language processing and AI agents, this session will demonstrate practical AI applications in real-world use cases that leverage Python's versatility so you can get started using AI right away.\n",
    "    ...\n",
    "    \n",
    "    topics table:\n",
    "    Talk ID,Assigned Topic\n",
    "    1,AI and Machine Learning\n",
    "    2,Community and Tech Education\n",
    "    3,Time Series Analysis\n",
    "    4,AI and Machine Learning\n",
    "    5,Natural Language Processing (NLP)\n",
    "    6,Community and Tech Education\n",
    "    7,Community and Tech Education\n",
    "    8,Community and Tech Education\n",
    "    ...\n",
    "    \n",
    "    '''"
   ]
  },
  {
   "cell_type": "code",
   "execution_count": 43,
   "id": "60b12149-c17a-4f90-8f2f-8e98bf6baaeb",
   "metadata": {},
   "outputs": [],
   "source": [
    "prompt_write_SQL_query_for_question = get_prompt_write_SQL_query_for_question(question)"
   ]
  },
  {
   "cell_type": "code",
   "execution_count": 44,
   "id": "2e744934-4664-425b-9262-e8695d01646d",
   "metadata": {},
   "outputs": [
    {
     "name": "stdout",
     "output_type": "stream",
     "text": [
      "```sql\n",
      "SELECT assigned_topic, COUNT(*) AS talk_count\n",
      "FROM topics\n",
      "GROUP BY assigned_topic;\n",
      "```\n"
     ]
    }
   ],
   "source": [
    "sql_query = run_chat_query(prompt_write_SQL_query_for_question)\n",
    "print(sql_query)"
   ]
  },
  {
   "cell_type": "code",
   "execution_count": 31,
   "id": "73ffa71d-a55f-41b6-807a-9fef89cff36c",
   "metadata": {},
   "outputs": [
    {
     "data": {
      "text/plain": [
       "' SELECT assigned_topic, COUNT(*) AS talk_count  FROM topics  GROUP BY assigned_topic; '"
      ]
     },
     "execution_count": 31,
     "metadata": {},
     "output_type": "execute_result"
    }
   ],
   "source": [
    "# scrub sqlquery\n",
    "sql_query=sql_query.replace(\"```sql\\n\",\"\").replace(\"\\n``\",\"\").replace(\"\\n\",\" \")\n",
    "sql_query"
   ]
  },
  {
   "cell_type": "code",
   "execution_count": 32,
   "id": "7979e385-1d92-4a74-8d3e-187c01639dd5",
   "metadata": {},
   "outputs": [
    {
     "name": "stdout",
     "output_type": "stream",
     "text": [
      "Running SQL Query:\n",
      " SELECT assigned_topic, COUNT(*) AS talk_count  FROM topics  GROUP BY assigned_topic; \n",
      "                          assigned_topic  talk_count\n",
      "0                AI and Machine Learning           4\n",
      "1           Community and Tech Education           8\n",
      "2                           Data Quality           1\n",
      "3      Data Science and Decision Engines           1\n",
      "4              Event Streaming and Kafka           1\n",
      "5                    IoT and MicroPython           1\n",
      "6      Natural Language Processing (NLP)           2\n",
      "7   Open Source and Software Development           4\n",
      "8             Python Libraries and Tools           9\n",
      "9                               Robotics           1\n",
      "10                  Time Series Analysis           1\n",
      "11          Web Development and Frontend           3\n"
     ]
    }
   ],
   "source": [
    "# query sql database with generated query\n",
    "sql_results = run_sql_query(sql_query)"
   ]
  },
  {
   "cell_type": "code",
   "execution_count": 46,
   "id": "4014bdac-2bfa-494e-bbdd-69eec42263cb",
   "metadata": {},
   "outputs": [],
   "source": [
    "def get_prompt_analyze_sql(question, sql_results):\n",
    "    return f'''\n",
    "    You are an expert analyst who can answer questions using supporting data which was returned from a SQL query on a dataset about the conference.\n",
    "        \n",
    "    Your job is to answer the input QUESTION, using the SQL_RESULTS in your answer and identifying any insights or trends you can from the results of the SQL query.\n",
    "    \n",
    "    The QUESTION is:\n",
    "    {question}\n",
    "    \n",
    "    The SQL_RESULTS are:\n",
    "    {sql_results}\n",
    "    \n",
    "    Important instructions\n",
    "    * do not reference the SQL database or use the term SQL unless it's from a part of the data itself\n",
    "    * be concise and try to make points with short bullet points\n",
    "    * return the sql resutlts dataset as part of your response\n",
    "    \n",
    "    '''"
   ]
  },
  {
   "cell_type": "code",
   "execution_count": 47,
   "id": "3413b056-0583-40bc-a273-bbeb1b7c76ef",
   "metadata": {},
   "outputs": [],
   "source": [
    "prompt_analyze_sql = get_prompt_analyze_sql(question, sql_results)"
   ]
  },
  {
   "cell_type": "code",
   "execution_count": 49,
   "id": "792816ef-1b37-4040-b61b-01d07fdb5f0e",
   "metadata": {},
   "outputs": [
    {
     "data": {
      "text/markdown": [
       "Here are the counts of talks in each category:\n",
       "\n",
       "- **AI and Machine Learning:** 4\n",
       "- **Community and Tech Education:** 8\n",
       "- **Data Quality:** 1\n",
       "- **Data Science and Decision Engines:** 1\n",
       "- **Event Streaming and Kafka:** 1\n",
       "- **IoT and MicroPython:** 1\n",
       "- **Natural Language Processing (NLP):** 2\n",
       "- **Open Source and Software Development:** 4\n",
       "- **Python Libraries and Tools:** 9\n",
       "- **Robotics:** 1\n",
       "- **Time Series Analysis:** 1\n",
       "- **Web Development and Frontend:** 3\n",
       "\n",
       "**Insights:**\n",
       "- The category \"Python Libraries and Tools\" has the highest number of talks (9).\n",
       "- \"Community and Tech Education\" also has a significant number of talks (8).\n",
       "- Several categories have only one talk, indicating niche topics (e.g., Data Quality, Robotics).\n",
       "\n",
       "**SQL Results:**\n",
       "```plaintext\n",
       "                              assigned_topic  talk_count\n",
       "0                AI and Machine Learning           4\n",
       "1           Community and Tech Education           8\n",
       "2                           Data Quality           1\n",
       "3      Data Science and Decision Engines           1\n",
       "4              Event Streaming and Kafka           1\n",
       "5                    IoT and MicroPython           1\n",
       "6      Natural Language Processing (NLP)           2\n",
       "7   Open Source and Software Development           4\n",
       "8             Python Libraries and Tools           9\n",
       "9                               Robotics           1\n",
       "10                  Time Series Analysis           1\n",
       "11          Web Development and Frontend           3\n",
       "```"
      ],
      "text/plain": [
       "<IPython.core.display.Markdown object>"
      ]
     },
     "metadata": {},
     "output_type": "display_data"
    }
   ],
   "source": [
    "print_markdown(run_chat_query(prompt_analyze_sql))"
   ]
  },
  {
   "cell_type": "markdown",
   "id": "4e8e8eee-af88-4712-90fe-88fbdb1036dc",
   "metadata": {},
   "source": [
    "Else LLM query:"
   ]
  },
  {
   "cell_type": "code",
   "execution_count": 51,
   "id": "db3bd5a6-cb97-48df-bc43-2e0e28b8dd73",
   "metadata": {},
   "outputs": [],
   "source": [
    "def get_prompt_analyze_llm(question):\n",
    "    return f'''\n",
    "    You are an expert analyst who can answer questions using supporting documents.\n",
    "        \n",
    "    Your job is to answer the input QUESTION, using the documents in your answer and identifying any insights.\n",
    "    \n",
    "    The QUESTION is:\n",
    "    {question}\n",
    "    \n",
    "    Important instructions\n",
    "    * be concise and try to make points with short bullet points\n",
    "    * answer only from the context from the documents, do not make up answers that are not supported by data\n",
    "    \n",
    "    '''"
   ]
  },
  {
   "cell_type": "code",
   "execution_count": 55,
   "id": "48918d45-942c-4566-b68c-c9bf18b063f7",
   "metadata": {},
   "outputs": [
    {
     "data": {
      "text/markdown": [
       "Here are the talks categorized based on the provided context:\n",
       "\n",
       "- **Data Analysis/Processing:**\n",
       "  - Talk ID: 24: \"Accelerate your pandas workload using FireDucks at zero manual effort\" by Sourav Saha\n",
       "  - Talk ID: 22: \"Duck, Duck, Python: OLAP Data with DuckDB\" by Luis de Sousa\n",
       "\n",
       "- **Data Quality:**\n",
       "  - Talk ID: 15: \"Great Expectations About Data Quality\" by Ariella Rink\n",
       "\n",
       "- **Artificial Intelligence:**\n",
       "  - Talk ID: 1: \"Applying AI with Python\" by Alex Conway\n",
       "\n",
       "Summary:\n",
       "- Data Analysis/Processing: 2 talks\n",
       "- Data Quality: 1 talk\n",
       "- Artificial Intelligence: 1 talk"
      ],
      "text/plain": [
       "<IPython.core.display.Markdown object>"
      ]
     },
     "metadata": {},
     "output_type": "display_data"
    }
   ],
   "source": [
    "prompt_analyze_llm = get_prompt_analyze_llm(question)\n",
    "\n",
    "print_markdown(run_chat_query(prompt_analyze_llm))"
   ]
  },
  {
   "cell_type": "markdown",
   "id": "eefbebc3-8cfe-4749-b4b3-70d3ba2fc482",
   "metadata": {},
   "source": [
    "fails as expected"
   ]
  },
  {
   "cell_type": "markdown",
   "id": "6b6864a1-2793-45c0-b8bb-9e2c0e0c3e56",
   "metadata": {},
   "source": [
    "# Write function to run pipeline"
   ]
  },
  {
   "cell_type": "code",
   "execution_count": 56,
   "id": "9b7e3fb5-fd83-4d26-b1da-5b0862d5f467",
   "metadata": {},
   "outputs": [],
   "source": [
    "def agent(question = \"How many talks in each category?\", debug=False):\n",
    "    # figure out if SQL or LLM question\n",
    "    prompt_decide_LLM_or_SQL = get_prompt_decide_LLM_or_SQL(question)\n",
    "    question_type = run_chat_query(prompt_decide_LLM_or_SQL)\n",
    "    \n",
    "    if question_type == \"SQL\":\n",
    "        # write sql query\n",
    "        prompt_write_SQL_query_for_question = get_prompt_write_SQL_query_for_question(question)\n",
    "        sql_query = run_chat_query(prompt_write_SQL_query_for_question)\n",
    "        if debug:\n",
    "            print(\"SQL query type\")\n",
    "            print(sql_query)\n",
    "        \n",
    "        # scrub sqlquery\n",
    "        sql_query=sql_query.replace(\"```sql\\n\",\"\").replace(\"\\n``\",\"\").replace(\"\\n\",\" \")\n",
    "        \n",
    "        # query sql database with generated query\n",
    "        sql_results = run_sql_query(sql_query)\n",
    "\n",
    "        # construct answer with insights from the data\n",
    "        prompt_analyze_sql = get_prompt_analyze_sql(question, sql_results)\n",
    "        \n",
    "        return print_markdown(run_chat_query(prompt_analyze_sql))\n",
    "    else:\n",
    "        if debug:\n",
    "            print(\"LLM query type\")\n",
    "        prompt_analyze_llm = get_prompt_analyze_llm(question)\n",
    "        return print_markdown(run_chat_query(prompt_analyze_llm))"
   ]
  },
  {
   "cell_type": "code",
   "execution_count": 57,
   "id": "563d9388-f7d4-4bcb-8e21-7fed5483c994",
   "metadata": {},
   "outputs": [
    {
     "data": {
      "text/markdown": [
       "Alex Conway is speaking about the following:\n",
       "\n",
       "- **Title**: Applying AI with Python\n",
       "- **Abstract**: \n",
       "  - AI's impact on industries and everyday life\n",
       "  - Python's role in enabling AI applications\n",
       "  - Practical AI applications in computer vision, time series analysis, natural language processing, and AI agents\n",
       "  - Demonstrations of real-world use cases and examples\n",
       "- **Key Takeaways**:\n",
       "  - Solid conceptual foundation for applying AI\n",
       "  - Knowledge of useful Python libraries and tools for AI\n",
       "  - Emphasis on accessibility of AI without needing advanced math skills\n",
       "\n",
       "For more details, visit the talk URL: [Applying AI with Python](https://2024.za.pycon.org/talks/11-applying-ai-with-python/)"
      ],
      "text/plain": [
       "<IPython.core.display.Markdown object>"
      ]
     },
     "metadata": {},
     "output_type": "display_data"
    }
   ],
   "source": [
    "agent(\"What is Alex Conway speaking about?\")"
   ]
  },
  {
   "cell_type": "code",
   "execution_count": 59,
   "id": "0182c379-f2cd-469d-91d4-2336b9cb3faf",
   "metadata": {},
   "outputs": [
    {
     "name": "stdout",
     "output_type": "stream",
     "text": [
      "Error occurred: Execution failed on sql 'SELECT COUNT(*) FROM speakers WHERE github IS NOT NULL AND github != '';`': You can only execute one statement at a time.\n"
     ]
    },
    {
     "data": {
      "text/markdown": [
       "- **Speakers with Active GitHub Profiles:**\n",
       "  - **Luis de Sousa**: GitHub profile at https://github.com/luisdza\n",
       "  - **Sourav Saha**: GitHub profile at https://github.com/qsourav\n",
       "  - **Cory Zue**: GitHub profile at https://github.com/czue\n",
       "  - **Alex Conway**: GitHub profile at https://github.com/alxcnwy\n",
       "\n",
       "**Total Number of Speakers with Active GitHub Profiles: 4**"
      ],
      "text/plain": [
       "<IPython.core.display.Markdown object>"
      ]
     },
     "metadata": {},
     "output_type": "display_data"
    }
   ],
   "source": [
    "agent(\"How many speakers have active github profiles?\")"
   ]
  },
  {
   "cell_type": "code",
   "execution_count": null,
   "id": "e6d19750-5dfa-4d8f-b179-6620f4720632",
   "metadata": {},
   "outputs": [],
   "source": []
  }
 ],
 "metadata": {
  "kernelspec": {
   "display_name": "pycon venv",
   "language": "python",
   "name": "venv"
  },
  "language_info": {
   "codemirror_mode": {
    "name": "ipython",
    "version": 3
   },
   "file_extension": ".py",
   "mimetype": "text/x-python",
   "name": "python",
   "nbconvert_exporter": "python",
   "pygments_lexer": "ipython3",
   "version": "3.11.0"
  }
 },
 "nbformat": 4,
 "nbformat_minor": 5
}
