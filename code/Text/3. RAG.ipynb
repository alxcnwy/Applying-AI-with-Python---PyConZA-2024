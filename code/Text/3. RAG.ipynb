{
 "cells": [
  {
   "cell_type": "markdown",
   "id": "5ca4503e-4523-45e9-9a83-5aae09a3d4fa",
   "metadata": {},
   "source": [
    "# Text - Retrieval Augmented Generation (RAG)"
   ]
  },
  {
   "cell_type": "markdown",
   "id": "1137fd06-f2ee-454c-936d-393b1494d68c",
   "metadata": {},
   "source": [
    "# Imports"
   ]
  },
  {
   "cell_type": "code",
   "execution_count": 1,
   "id": "76141f7c-bdd1-4084-b2d6-6af9c38eb3a7",
   "metadata": {},
   "outputs": [
    {
     "name": "stdout",
     "output_type": "stream",
     "text": [
      "The history saving thread hit an unexpected error (OperationalError('attempt to write a readonly database')).History will not be written to the database.\n"
     ]
    }
   ],
   "source": [
    "from langchain.chains import RetrievalQA\n",
    "from langchain.vectorstores import FAISS\n",
    "from langchain.embeddings.openai import OpenAIEmbeddings\n",
    "from langchain_openai import ChatOpenAI"
   ]
  },
  {
   "cell_type": "markdown",
   "id": "f157d84c-c7dd-4981-a5ac-145f8fabd550",
   "metadata": {},
   "source": [
    "# Load Vector Store"
   ]
  },
  {
   "cell_type": "code",
   "execution_count": 2,
   "id": "3b8ae933-3727-4959-a821-ac3cf600197d",
   "metadata": {},
   "outputs": [
    {
     "name": "stderr",
     "output_type": "stream",
     "text": [
      "/var/folders/k3/c3xvj_bs4zbghyks6ph03td80000gn/T/ipykernel_68821/2154866790.py:4: LangChainDeprecationWarning: The class `OpenAIEmbeddings` was deprecated in LangChain 0.0.9 and will be removed in 1.0. An updated version of the class exists in the :class:`~langchain-openai package and should be used instead. To use it run `pip install -U :class:`~langchain-openai` and import as `from :class:`~langchain_openai import OpenAIEmbeddings``.\n",
      "  OpenAIEmbeddings(model=\"text-embedding-ada-002\"),\n"
     ]
    }
   ],
   "source": [
    "# Load FAISS index\n",
    "vectorstore = FAISS.load_local(\n",
    "    \"faiss_index\", \n",
    "    OpenAIEmbeddings(model=\"text-embedding-ada-002\"), \n",
    "    allow_dangerous_deserialization=True\n",
    ")\n",
    "\n",
    "# Initialize the language model (chat model)\n",
    "llm = ChatOpenAI(model=\"gpt-4\")"
   ]
  },
  {
   "cell_type": "markdown",
   "id": "59dc6510-e3b6-4367-a9f3-d255bc7fd106",
   "metadata": {},
   "source": [
    "# Setup RAG "
   ]
  },
  {
   "cell_type": "code",
   "execution_count": 3,
   "id": "d061def1-20bd-4f9a-a020-d93fea5198e0",
   "metadata": {},
   "outputs": [],
   "source": [
    "# Set up Retrieval Augmented Generation (RAG)\n",
    "qa_chain = RetrievalQA.from_chain_type(llm, retriever=vectorstore.as_retriever())"
   ]
  },
  {
   "cell_type": "markdown",
   "id": "e3e94d9c-06d3-425a-a28a-be2651c58ef9",
   "metadata": {},
   "source": [
    "# Use RAG"
   ]
  },
  {
   "cell_type": "code",
   "execution_count": 7,
   "id": "d91d387a-6871-4f45-9351-250af72f0f21",
   "metadata": {},
   "outputs": [
    {
     "name": "stdout",
     "output_type": "stream",
     "text": [
      "The main topic of the documents is the abstracts and speaker details for several talks at a Python conference.\n"
     ]
    }
   ],
   "source": [
    "print(qa_chain.run(\"What is the main topic of the documents [<10 words]\"))"
   ]
  },
  {
   "cell_type": "code",
   "execution_count": 5,
   "id": "df0f529d-0cef-4b98-bcbe-119ebe847fc2",
   "metadata": {},
   "outputs": [
    {
     "name": "stdout",
     "output_type": "stream",
     "text": [
      "Yes, there are several talks about artificial intelligence:\n",
      "\n",
      "1. \"Applying AI with Python\" by Alex Conway. In this talk, the speaker will explore how Python's rich ecosystem of AI libraries and frameworks can be harnessed to quickly solve real-world problems. The session will demonstrate practical AI applications in real-world use cases that leverage Python's versatility. More details can be found [here](https://2024.za.pycon.org/talks/11-applying-ai-with-python/).\n",
      "\n",
      "2. \"Differentiation Engines: The Elves behind the AI Christmas\" by Rajdeep Singh. This talk will provide a good overview of the different mathematical differentiation techniques and libraries within the Python ecosystem. It will also provide an in-depth look at what powers modern machine learning frameworks. More details can be found [here](https://2024.za.pycon.org/talks/23-differentiation-engines-the-elves-behind-the-ai-christmas/).\n",
      "\n",
      "3. \"Building a Decisioning Engine for Data Scientists: A Practical Guide\" by Sholto Armstrong. This talk will introduce a new open-source decisioning framework built on Hamilton, a versatile framework designed to streamline the creation and management of dataflows using standard Python functions. More details can be found [here](https://2024.za.pycon.org/talks/37-building-a-decisioning-engine-for-data-scientists-a-practical-guide/).\n"
     ]
    }
   ],
   "source": [
    "print(qa_chain.run(\"Are there any talks about artificial intelligence?\"))"
   ]
  },
  {
   "cell_type": "code",
   "execution_count": 6,
   "id": "c1e83190-c7a7-4444-8e77-f41baacbd0f0",
   "metadata": {},
   "outputs": [
    {
     "name": "stdout",
     "output_type": "stream",
     "text": [
      "There are three talks about artificial intelligence. These are:\n",
      "\n",
      "1. \"Applying AI with Python\" by Alex Conway\n",
      "2. \"& robotics for all!\" by :David Campey\n",
      "3. \"Differentiation Engines: The Elves behind the AI Christmas\" by Rajdeep Singh\n"
     ]
    }
   ],
   "source": [
    "print(qa_chain.run(\"How many talks are there about artificial intelligence?\"))"
   ]
  },
  {
   "cell_type": "markdown",
   "id": "f173294a-0a1e-4b09-a6ea-4d272c890ab5",
   "metadata": {},
   "source": [
    "**WRONG!!!**"
   ]
  },
  {
   "cell_type": "code",
   "execution_count": null,
   "id": "006e9bda-daa9-4a1a-8ef6-b24e84c0b37e",
   "metadata": {},
   "outputs": [],
   "source": []
  }
 ],
 "metadata": {
  "kernelspec": {
   "display_name": "pycon venv",
   "language": "python",
   "name": "venv"
  },
  "language_info": {
   "codemirror_mode": {
    "name": "ipython",
    "version": 3
   },
   "file_extension": ".py",
   "mimetype": "text/x-python",
   "name": "python",
   "nbconvert_exporter": "python",
   "pygments_lexer": "ipython3",
   "version": "3.11.0"
  }
 },
 "nbformat": 4,
 "nbformat_minor": 5
}
